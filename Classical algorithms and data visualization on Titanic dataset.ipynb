{
 "cells": [
  {
   "cell_type": "code",
   "execution_count": 56,
   "metadata": {},
   "outputs": [],
   "source": [
    "import re\n",
    "import pandas as pd\n",
    "import numpy as np\n",
    "import matplotlib.pyplot as plt\n",
    "import seaborn as sns\n",
    "\n",
    "import warnings\n",
    "warnings.filterwarnings('ignore')\n",
    "%matplotlib inline"
   ]
  },
  {
   "cell_type": "code",
   "execution_count": 57,
   "metadata": {},
   "outputs": [
    {
     "data": {
      "text/html": [
       "<div>\n",
       "<style scoped>\n",
       "    .dataframe tbody tr th:only-of-type {\n",
       "        vertical-align: middle;\n",
       "    }\n",
       "\n",
       "    .dataframe tbody tr th {\n",
       "        vertical-align: top;\n",
       "    }\n",
       "\n",
       "    .dataframe thead th {\n",
       "        text-align: right;\n",
       "    }\n",
       "</style>\n",
       "<table border=\"1\" class=\"dataframe\">\n",
       "  <thead>\n",
       "    <tr style=\"text-align: right;\">\n",
       "      <th></th>\n",
       "      <th>pclass</th>\n",
       "      <th>survived</th>\n",
       "      <th>name</th>\n",
       "      <th>sex</th>\n",
       "      <th>age</th>\n",
       "      <th>sibsp</th>\n",
       "      <th>parch</th>\n",
       "      <th>ticket</th>\n",
       "      <th>fare</th>\n",
       "      <th>cabin</th>\n",
       "      <th>embarked</th>\n",
       "    </tr>\n",
       "  </thead>\n",
       "  <tbody>\n",
       "    <tr>\n",
       "      <th>0</th>\n",
       "      <td>1st</td>\n",
       "      <td>1</td>\n",
       "      <td>Allen, Miss. Elisabeth Walton</td>\n",
       "      <td>female</td>\n",
       "      <td>29.0000</td>\n",
       "      <td>0</td>\n",
       "      <td>0</td>\n",
       "      <td>24160</td>\n",
       "      <td>211.337494</td>\n",
       "      <td>B5</td>\n",
       "      <td>Southampton</td>\n",
       "    </tr>\n",
       "    <tr>\n",
       "      <th>1</th>\n",
       "      <td>1st</td>\n",
       "      <td>1</td>\n",
       "      <td>Allison, Master. Hudson Trevor</td>\n",
       "      <td>male</td>\n",
       "      <td>0.9167</td>\n",
       "      <td>1</td>\n",
       "      <td>2</td>\n",
       "      <td>113781</td>\n",
       "      <td>151.550003</td>\n",
       "      <td>C22 C26</td>\n",
       "      <td>Southampton</td>\n",
       "    </tr>\n",
       "    <tr>\n",
       "      <th>2</th>\n",
       "      <td>1st</td>\n",
       "      <td>0</td>\n",
       "      <td>Allison, Miss. Helen Loraine</td>\n",
       "      <td>female</td>\n",
       "      <td>2.0000</td>\n",
       "      <td>1</td>\n",
       "      <td>2</td>\n",
       "      <td>113781</td>\n",
       "      <td>151.550003</td>\n",
       "      <td>C22 C26</td>\n",
       "      <td>Southampton</td>\n",
       "    </tr>\n",
       "    <tr>\n",
       "      <th>3</th>\n",
       "      <td>1st</td>\n",
       "      <td>0</td>\n",
       "      <td>Allison, Mr. Hudson Joshua Crei</td>\n",
       "      <td>male</td>\n",
       "      <td>30.0000</td>\n",
       "      <td>1</td>\n",
       "      <td>2</td>\n",
       "      <td>113781</td>\n",
       "      <td>151.550003</td>\n",
       "      <td>C22 C26</td>\n",
       "      <td>Southampton</td>\n",
       "    </tr>\n",
       "    <tr>\n",
       "      <th>4</th>\n",
       "      <td>1st</td>\n",
       "      <td>0</td>\n",
       "      <td>Allison, Mrs. Hudson J C (Bessi</td>\n",
       "      <td>female</td>\n",
       "      <td>25.0000</td>\n",
       "      <td>1</td>\n",
       "      <td>2</td>\n",
       "      <td>113781</td>\n",
       "      <td>151.550003</td>\n",
       "      <td>C22 C26</td>\n",
       "      <td>Southampton</td>\n",
       "    </tr>\n",
       "    <tr>\n",
       "      <th>5</th>\n",
       "      <td>1st</td>\n",
       "      <td>1</td>\n",
       "      <td>Anderson, Mr. Harry</td>\n",
       "      <td>male</td>\n",
       "      <td>48.0000</td>\n",
       "      <td>0</td>\n",
       "      <td>0</td>\n",
       "      <td>19952</td>\n",
       "      <td>26.549999</td>\n",
       "      <td>E12</td>\n",
       "      <td>Southampton</td>\n",
       "    </tr>\n",
       "    <tr>\n",
       "      <th>6</th>\n",
       "      <td>1st</td>\n",
       "      <td>1</td>\n",
       "      <td>Andrews, Miss. Kornelia Theodos</td>\n",
       "      <td>female</td>\n",
       "      <td>63.0000</td>\n",
       "      <td>1</td>\n",
       "      <td>0</td>\n",
       "      <td>13502</td>\n",
       "      <td>77.958298</td>\n",
       "      <td>D7</td>\n",
       "      <td>Southampton</td>\n",
       "    </tr>\n",
       "    <tr>\n",
       "      <th>7</th>\n",
       "      <td>1st</td>\n",
       "      <td>0</td>\n",
       "      <td>Andrews, Mr. Thomas Jr</td>\n",
       "      <td>male</td>\n",
       "      <td>39.0000</td>\n",
       "      <td>0</td>\n",
       "      <td>0</td>\n",
       "      <td>112050</td>\n",
       "      <td>0.000000</td>\n",
       "      <td>A36</td>\n",
       "      <td>Southampton</td>\n",
       "    </tr>\n",
       "    <tr>\n",
       "      <th>8</th>\n",
       "      <td>1st</td>\n",
       "      <td>1</td>\n",
       "      <td>Appleton, Mrs. Edward Dale (Cha</td>\n",
       "      <td>female</td>\n",
       "      <td>53.0000</td>\n",
       "      <td>2</td>\n",
       "      <td>0</td>\n",
       "      <td>11769</td>\n",
       "      <td>51.479198</td>\n",
       "      <td>C101</td>\n",
       "      <td>Southampton</td>\n",
       "    </tr>\n",
       "    <tr>\n",
       "      <th>9</th>\n",
       "      <td>1st</td>\n",
       "      <td>0</td>\n",
       "      <td>Artagaveytia, Mr. Ramon</td>\n",
       "      <td>male</td>\n",
       "      <td>71.0000</td>\n",
       "      <td>0</td>\n",
       "      <td>0</td>\n",
       "      <td>PC 17609</td>\n",
       "      <td>49.504200</td>\n",
       "      <td>NaN</td>\n",
       "      <td>Cherbourg</td>\n",
       "    </tr>\n",
       "    <tr>\n",
       "      <th>10</th>\n",
       "      <td>1st</td>\n",
       "      <td>0</td>\n",
       "      <td>Astor, Col. John Jacob</td>\n",
       "      <td>male</td>\n",
       "      <td>47.0000</td>\n",
       "      <td>1</td>\n",
       "      <td>0</td>\n",
       "      <td>PC 17757</td>\n",
       "      <td>227.524994</td>\n",
       "      <td>C62 C64</td>\n",
       "      <td>Cherbourg</td>\n",
       "    </tr>\n",
       "    <tr>\n",
       "      <th>11</th>\n",
       "      <td>1st</td>\n",
       "      <td>1</td>\n",
       "      <td>Astor, Mrs. John Jacob (Madelei</td>\n",
       "      <td>female</td>\n",
       "      <td>18.0000</td>\n",
       "      <td>1</td>\n",
       "      <td>0</td>\n",
       "      <td>PC 17757</td>\n",
       "      <td>227.524994</td>\n",
       "      <td>C62 C64</td>\n",
       "      <td>Cherbourg</td>\n",
       "    </tr>\n",
       "    <tr>\n",
       "      <th>12</th>\n",
       "      <td>1st</td>\n",
       "      <td>1</td>\n",
       "      <td>Aubart, Mme. Leontine Pauline</td>\n",
       "      <td>female</td>\n",
       "      <td>24.0000</td>\n",
       "      <td>0</td>\n",
       "      <td>0</td>\n",
       "      <td>PC 17477</td>\n",
       "      <td>69.300003</td>\n",
       "      <td>B35</td>\n",
       "      <td>Cherbourg</td>\n",
       "    </tr>\n",
       "    <tr>\n",
       "      <th>13</th>\n",
       "      <td>1st</td>\n",
       "      <td>1</td>\n",
       "      <td>Barber, Miss. Ellen \\\"Nellie\\\"</td>\n",
       "      <td>female</td>\n",
       "      <td>26.0000</td>\n",
       "      <td>0</td>\n",
       "      <td>0</td>\n",
       "      <td>19877</td>\n",
       "      <td>78.849998</td>\n",
       "      <td>NaN</td>\n",
       "      <td>Southampton</td>\n",
       "    </tr>\n",
       "    <tr>\n",
       "      <th>14</th>\n",
       "      <td>1st</td>\n",
       "      <td>1</td>\n",
       "      <td>Barkworth, Mr. Algernon Henry W</td>\n",
       "      <td>male</td>\n",
       "      <td>80.0000</td>\n",
       "      <td>0</td>\n",
       "      <td>0</td>\n",
       "      <td>27042</td>\n",
       "      <td>30.000000</td>\n",
       "      <td>A23</td>\n",
       "      <td>Southampton</td>\n",
       "    </tr>\n",
       "    <tr>\n",
       "      <th>15</th>\n",
       "      <td>1st</td>\n",
       "      <td>0</td>\n",
       "      <td>Baumann, Mr. John D</td>\n",
       "      <td>male</td>\n",
       "      <td>NaN</td>\n",
       "      <td>0</td>\n",
       "      <td>0</td>\n",
       "      <td>PC 17318</td>\n",
       "      <td>25.924999</td>\n",
       "      <td>NaN</td>\n",
       "      <td>Southampton</td>\n",
       "    </tr>\n",
       "  </tbody>\n",
       "</table>\n",
       "</div>"
      ],
      "text/plain": [
       "   pclass  survived                             name     sex      age  sibsp  \\\n",
       "0     1st         1    Allen, Miss. Elisabeth Walton  female  29.0000      0   \n",
       "1     1st         1   Allison, Master. Hudson Trevor    male   0.9167      1   \n",
       "2     1st         0     Allison, Miss. Helen Loraine  female   2.0000      1   \n",
       "3     1st         0  Allison, Mr. Hudson Joshua Crei    male  30.0000      1   \n",
       "4     1st         0  Allison, Mrs. Hudson J C (Bessi  female  25.0000      1   \n",
       "5     1st         1              Anderson, Mr. Harry    male  48.0000      0   \n",
       "6     1st         1  Andrews, Miss. Kornelia Theodos  female  63.0000      1   \n",
       "7     1st         0           Andrews, Mr. Thomas Jr    male  39.0000      0   \n",
       "8     1st         1  Appleton, Mrs. Edward Dale (Cha  female  53.0000      2   \n",
       "9     1st         0          Artagaveytia, Mr. Ramon    male  71.0000      0   \n",
       "10    1st         0           Astor, Col. John Jacob    male  47.0000      1   \n",
       "11    1st         1  Astor, Mrs. John Jacob (Madelei  female  18.0000      1   \n",
       "12    1st         1    Aubart, Mme. Leontine Pauline  female  24.0000      0   \n",
       "13    1st         1   Barber, Miss. Ellen \\\"Nellie\\\"  female  26.0000      0   \n",
       "14    1st         1  Barkworth, Mr. Algernon Henry W    male  80.0000      0   \n",
       "15    1st         0              Baumann, Mr. John D    male      NaN      0   \n",
       "\n",
       "    parch    ticket        fare    cabin     embarked  \n",
       "0       0     24160  211.337494       B5  Southampton  \n",
       "1       2    113781  151.550003  C22 C26  Southampton  \n",
       "2       2    113781  151.550003  C22 C26  Southampton  \n",
       "3       2    113781  151.550003  C22 C26  Southampton  \n",
       "4       2    113781  151.550003  C22 C26  Southampton  \n",
       "5       0     19952   26.549999      E12  Southampton  \n",
       "6       0     13502   77.958298       D7  Southampton  \n",
       "7       0    112050    0.000000      A36  Southampton  \n",
       "8       0     11769   51.479198     C101  Southampton  \n",
       "9       0  PC 17609   49.504200      NaN    Cherbourg  \n",
       "10      0  PC 17757  227.524994  C62 C64    Cherbourg  \n",
       "11      0  PC 17757  227.524994  C62 C64    Cherbourg  \n",
       "12      0  PC 17477   69.300003      B35    Cherbourg  \n",
       "13      0     19877   78.849998      NaN  Southampton  \n",
       "14      0     27042   30.000000      A23  Southampton  \n",
       "15      0  PC 17318   25.924999      NaN  Southampton  "
      ]
     },
     "execution_count": 57,
     "metadata": {},
     "output_type": "execute_result"
    }
   ],
   "source": [
    "df = pd.read_csv('Titanic.csv')\n",
    "df = df.drop(columns = ['Unnamed: 0','boat', 'body',\n",
    "       'home.dest'])\n",
    "df.head(16)"
   ]
  },
  {
   "cell_type": "code",
   "execution_count": 58,
   "metadata": {},
   "outputs": [
    {
     "data": {
      "text/html": [
       "<div>\n",
       "<style scoped>\n",
       "    .dataframe tbody tr th:only-of-type {\n",
       "        vertical-align: middle;\n",
       "    }\n",
       "\n",
       "    .dataframe tbody tr th {\n",
       "        vertical-align: top;\n",
       "    }\n",
       "\n",
       "    .dataframe thead th {\n",
       "        text-align: right;\n",
       "    }\n",
       "</style>\n",
       "<table border=\"1\" class=\"dataframe\">\n",
       "  <thead>\n",
       "    <tr style=\"text-align: right;\">\n",
       "      <th></th>\n",
       "      <th>pclass</th>\n",
       "      <th>survived</th>\n",
       "      <th>name</th>\n",
       "      <th>sex</th>\n",
       "      <th>age</th>\n",
       "      <th>sibsp</th>\n",
       "      <th>parch</th>\n",
       "      <th>ticket</th>\n",
       "      <th>fare</th>\n",
       "      <th>cabin</th>\n",
       "      <th>embarked</th>\n",
       "    </tr>\n",
       "  </thead>\n",
       "  <tbody>\n",
       "    <tr>\n",
       "      <th>0</th>\n",
       "      <td>1st</td>\n",
       "      <td>1</td>\n",
       "      <td>Allen, Miss. Elisabeth Walton</td>\n",
       "      <td>female</td>\n",
       "      <td>29.0000</td>\n",
       "      <td>0</td>\n",
       "      <td>0</td>\n",
       "      <td>24160</td>\n",
       "      <td>211.337494</td>\n",
       "      <td>B5</td>\n",
       "      <td>Southampton</td>\n",
       "    </tr>\n",
       "    <tr>\n",
       "      <th>1</th>\n",
       "      <td>1st</td>\n",
       "      <td>1</td>\n",
       "      <td>Allison, Master. Hudson Trevor</td>\n",
       "      <td>male</td>\n",
       "      <td>0.9167</td>\n",
       "      <td>1</td>\n",
       "      <td>2</td>\n",
       "      <td>113781</td>\n",
       "      <td>151.550003</td>\n",
       "      <td>C22 C26</td>\n",
       "      <td>Southampton</td>\n",
       "    </tr>\n",
       "    <tr>\n",
       "      <th>2</th>\n",
       "      <td>1st</td>\n",
       "      <td>0</td>\n",
       "      <td>Allison, Miss. Helen Loraine</td>\n",
       "      <td>female</td>\n",
       "      <td>2.0000</td>\n",
       "      <td>1</td>\n",
       "      <td>2</td>\n",
       "      <td>113781</td>\n",
       "      <td>151.550003</td>\n",
       "      <td>C22 C26</td>\n",
       "      <td>Southampton</td>\n",
       "    </tr>\n",
       "    <tr>\n",
       "      <th>3</th>\n",
       "      <td>1st</td>\n",
       "      <td>0</td>\n",
       "      <td>Allison, Mr. Hudson Joshua Crei</td>\n",
       "      <td>male</td>\n",
       "      <td>30.0000</td>\n",
       "      <td>1</td>\n",
       "      <td>2</td>\n",
       "      <td>113781</td>\n",
       "      <td>151.550003</td>\n",
       "      <td>C22 C26</td>\n",
       "      <td>Southampton</td>\n",
       "    </tr>\n",
       "    <tr>\n",
       "      <th>4</th>\n",
       "      <td>1st</td>\n",
       "      <td>0</td>\n",
       "      <td>Allison, Mrs. Hudson J C (Bessi</td>\n",
       "      <td>female</td>\n",
       "      <td>25.0000</td>\n",
       "      <td>1</td>\n",
       "      <td>2</td>\n",
       "      <td>113781</td>\n",
       "      <td>151.550003</td>\n",
       "      <td>C22 C26</td>\n",
       "      <td>Southampton</td>\n",
       "    </tr>\n",
       "    <tr>\n",
       "      <th>5</th>\n",
       "      <td>1st</td>\n",
       "      <td>1</td>\n",
       "      <td>Anderson, Mr. Harry</td>\n",
       "      <td>male</td>\n",
       "      <td>48.0000</td>\n",
       "      <td>0</td>\n",
       "      <td>0</td>\n",
       "      <td>19952</td>\n",
       "      <td>26.549999</td>\n",
       "      <td>E12</td>\n",
       "      <td>Southampton</td>\n",
       "    </tr>\n",
       "    <tr>\n",
       "      <th>6</th>\n",
       "      <td>1st</td>\n",
       "      <td>1</td>\n",
       "      <td>Andrews, Miss. Kornelia Theodos</td>\n",
       "      <td>female</td>\n",
       "      <td>63.0000</td>\n",
       "      <td>1</td>\n",
       "      <td>0</td>\n",
       "      <td>13502</td>\n",
       "      <td>77.958298</td>\n",
       "      <td>D7</td>\n",
       "      <td>Southampton</td>\n",
       "    </tr>\n",
       "    <tr>\n",
       "      <th>7</th>\n",
       "      <td>1st</td>\n",
       "      <td>0</td>\n",
       "      <td>Andrews, Mr. Thomas Jr</td>\n",
       "      <td>male</td>\n",
       "      <td>39.0000</td>\n",
       "      <td>0</td>\n",
       "      <td>0</td>\n",
       "      <td>112050</td>\n",
       "      <td>0.000000</td>\n",
       "      <td>A36</td>\n",
       "      <td>Southampton</td>\n",
       "    </tr>\n",
       "    <tr>\n",
       "      <th>8</th>\n",
       "      <td>1st</td>\n",
       "      <td>1</td>\n",
       "      <td>Appleton, Mrs. Edward Dale (Cha</td>\n",
       "      <td>female</td>\n",
       "      <td>53.0000</td>\n",
       "      <td>2</td>\n",
       "      <td>0</td>\n",
       "      <td>11769</td>\n",
       "      <td>51.479198</td>\n",
       "      <td>C101</td>\n",
       "      <td>Southampton</td>\n",
       "    </tr>\n",
       "    <tr>\n",
       "      <th>9</th>\n",
       "      <td>1st</td>\n",
       "      <td>0</td>\n",
       "      <td>Artagaveytia, Mr. Ramon</td>\n",
       "      <td>male</td>\n",
       "      <td>71.0000</td>\n",
       "      <td>0</td>\n",
       "      <td>0</td>\n",
       "      <td>PC 17609</td>\n",
       "      <td>49.504200</td>\n",
       "      <td>NaN</td>\n",
       "      <td>Cherbourg</td>\n",
       "    </tr>\n",
       "    <tr>\n",
       "      <th>10</th>\n",
       "      <td>1st</td>\n",
       "      <td>0</td>\n",
       "      <td>Astor, Col. John Jacob</td>\n",
       "      <td>male</td>\n",
       "      <td>47.0000</td>\n",
       "      <td>1</td>\n",
       "      <td>0</td>\n",
       "      <td>PC 17757</td>\n",
       "      <td>227.524994</td>\n",
       "      <td>C62 C64</td>\n",
       "      <td>Cherbourg</td>\n",
       "    </tr>\n",
       "    <tr>\n",
       "      <th>11</th>\n",
       "      <td>1st</td>\n",
       "      <td>1</td>\n",
       "      <td>Astor, Mrs. John Jacob (Madelei</td>\n",
       "      <td>female</td>\n",
       "      <td>18.0000</td>\n",
       "      <td>1</td>\n",
       "      <td>0</td>\n",
       "      <td>PC 17757</td>\n",
       "      <td>227.524994</td>\n",
       "      <td>C62 C64</td>\n",
       "      <td>Cherbourg</td>\n",
       "    </tr>\n",
       "    <tr>\n",
       "      <th>12</th>\n",
       "      <td>1st</td>\n",
       "      <td>1</td>\n",
       "      <td>Aubart, Mme. Leontine Pauline</td>\n",
       "      <td>female</td>\n",
       "      <td>24.0000</td>\n",
       "      <td>0</td>\n",
       "      <td>0</td>\n",
       "      <td>PC 17477</td>\n",
       "      <td>69.300003</td>\n",
       "      <td>B35</td>\n",
       "      <td>Cherbourg</td>\n",
       "    </tr>\n",
       "    <tr>\n",
       "      <th>13</th>\n",
       "      <td>1st</td>\n",
       "      <td>1</td>\n",
       "      <td>Barber, Miss. Ellen \\\"Nellie\\\"</td>\n",
       "      <td>female</td>\n",
       "      <td>26.0000</td>\n",
       "      <td>0</td>\n",
       "      <td>0</td>\n",
       "      <td>19877</td>\n",
       "      <td>78.849998</td>\n",
       "      <td>NaN</td>\n",
       "      <td>Southampton</td>\n",
       "    </tr>\n",
       "    <tr>\n",
       "      <th>14</th>\n",
       "      <td>1st</td>\n",
       "      <td>1</td>\n",
       "      <td>Barkworth, Mr. Algernon Henry W</td>\n",
       "      <td>male</td>\n",
       "      <td>80.0000</td>\n",
       "      <td>0</td>\n",
       "      <td>0</td>\n",
       "      <td>27042</td>\n",
       "      <td>30.000000</td>\n",
       "      <td>A23</td>\n",
       "      <td>Southampton</td>\n",
       "    </tr>\n",
       "    <tr>\n",
       "      <th>15</th>\n",
       "      <td>1st</td>\n",
       "      <td>0</td>\n",
       "      <td>Baumann, Mr. John D</td>\n",
       "      <td>male</td>\n",
       "      <td>24.0000</td>\n",
       "      <td>0</td>\n",
       "      <td>0</td>\n",
       "      <td>PC 17318</td>\n",
       "      <td>25.924999</td>\n",
       "      <td>NaN</td>\n",
       "      <td>Southampton</td>\n",
       "    </tr>\n",
       "  </tbody>\n",
       "</table>\n",
       "</div>"
      ],
      "text/plain": [
       "   pclass  survived                             name     sex      age  sibsp  \\\n",
       "0     1st         1    Allen, Miss. Elisabeth Walton  female  29.0000      0   \n",
       "1     1st         1   Allison, Master. Hudson Trevor    male   0.9167      1   \n",
       "2     1st         0     Allison, Miss. Helen Loraine  female   2.0000      1   \n",
       "3     1st         0  Allison, Mr. Hudson Joshua Crei    male  30.0000      1   \n",
       "4     1st         0  Allison, Mrs. Hudson J C (Bessi  female  25.0000      1   \n",
       "5     1st         1              Anderson, Mr. Harry    male  48.0000      0   \n",
       "6     1st         1  Andrews, Miss. Kornelia Theodos  female  63.0000      1   \n",
       "7     1st         0           Andrews, Mr. Thomas Jr    male  39.0000      0   \n",
       "8     1st         1  Appleton, Mrs. Edward Dale (Cha  female  53.0000      2   \n",
       "9     1st         0          Artagaveytia, Mr. Ramon    male  71.0000      0   \n",
       "10    1st         0           Astor, Col. John Jacob    male  47.0000      1   \n",
       "11    1st         1  Astor, Mrs. John Jacob (Madelei  female  18.0000      1   \n",
       "12    1st         1    Aubart, Mme. Leontine Pauline  female  24.0000      0   \n",
       "13    1st         1   Barber, Miss. Ellen \\\"Nellie\\\"  female  26.0000      0   \n",
       "14    1st         1  Barkworth, Mr. Algernon Henry W    male  80.0000      0   \n",
       "15    1st         0              Baumann, Mr. John D    male  24.0000      0   \n",
       "\n",
       "    parch    ticket        fare    cabin     embarked  \n",
       "0       0     24160  211.337494       B5  Southampton  \n",
       "1       2    113781  151.550003  C22 C26  Southampton  \n",
       "2       2    113781  151.550003  C22 C26  Southampton  \n",
       "3       2    113781  151.550003  C22 C26  Southampton  \n",
       "4       2    113781  151.550003  C22 C26  Southampton  \n",
       "5       0     19952   26.549999      E12  Southampton  \n",
       "6       0     13502   77.958298       D7  Southampton  \n",
       "7       0    112050    0.000000      A36  Southampton  \n",
       "8       0     11769   51.479198     C101  Southampton  \n",
       "9       0  PC 17609   49.504200      NaN    Cherbourg  \n",
       "10      0  PC 17757  227.524994  C62 C64    Cherbourg  \n",
       "11      0  PC 17757  227.524994  C62 C64    Cherbourg  \n",
       "12      0  PC 17477   69.300003      B35    Cherbourg  \n",
       "13      0     19877   78.849998      NaN  Southampton  \n",
       "14      0     27042   30.000000      A23  Southampton  \n",
       "15      0  PC 17318   25.924999      NaN  Southampton  "
      ]
     },
     "execution_count": 58,
     "metadata": {},
     "output_type": "execute_result"
    }
   ],
   "source": [
    "df.age[df.age.isnull()] = df.age.dropna().mode().values\n",
    "df.head(16)"
   ]
  },
  {
   "cell_type": "code",
   "execution_count": 59,
   "metadata": {},
   "outputs": [],
   "source": [
    "from sklearn.model_selection import train_test_split\n",
    "train_data,test_data = train_test_split(df,test_size = 0.3,random_state = 0)"
   ]
  },
  {
   "cell_type": "code",
   "execution_count": 60,
   "metadata": {},
   "outputs": [
    {
     "data": {
      "text/html": [
       "<div>\n",
       "<style scoped>\n",
       "    .dataframe tbody tr th:only-of-type {\n",
       "        vertical-align: middle;\n",
       "    }\n",
       "\n",
       "    .dataframe tbody tr th {\n",
       "        vertical-align: top;\n",
       "    }\n",
       "\n",
       "    .dataframe thead th {\n",
       "        text-align: right;\n",
       "    }\n",
       "</style>\n",
       "<table border=\"1\" class=\"dataframe\">\n",
       "  <thead>\n",
       "    <tr style=\"text-align: right;\">\n",
       "      <th></th>\n",
       "      <th>pclass</th>\n",
       "      <th>survived</th>\n",
       "      <th>name</th>\n",
       "      <th>sex</th>\n",
       "      <th>age</th>\n",
       "      <th>sibsp</th>\n",
       "      <th>parch</th>\n",
       "      <th>ticket</th>\n",
       "      <th>fare</th>\n",
       "      <th>cabin</th>\n",
       "      <th>embarked</th>\n",
       "    </tr>\n",
       "  </thead>\n",
       "  <tbody>\n",
       "    <tr>\n",
       "      <th>501</th>\n",
       "      <td>2nd</td>\n",
       "      <td>1</td>\n",
       "      <td>Mellinger, Miss. Madeleine Viol</td>\n",
       "      <td>female</td>\n",
       "      <td>13.0</td>\n",
       "      <td>0</td>\n",
       "      <td>1</td>\n",
       "      <td>250644</td>\n",
       "      <td>19.5000</td>\n",
       "      <td>NaN</td>\n",
       "      <td>Southampton</td>\n",
       "    </tr>\n",
       "    <tr>\n",
       "      <th>588</th>\n",
       "      <td>2nd</td>\n",
       "      <td>1</td>\n",
       "      <td>Wells, Miss. Joan</td>\n",
       "      <td>female</td>\n",
       "      <td>4.0</td>\n",
       "      <td>1</td>\n",
       "      <td>1</td>\n",
       "      <td>29103</td>\n",
       "      <td>23.0000</td>\n",
       "      <td>NaN</td>\n",
       "      <td>Southampton</td>\n",
       "    </tr>\n",
       "    <tr>\n",
       "      <th>402</th>\n",
       "      <td>2nd</td>\n",
       "      <td>1</td>\n",
       "      <td>Duran y More, Miss. Florentina</td>\n",
       "      <td>female</td>\n",
       "      <td>30.0</td>\n",
       "      <td>1</td>\n",
       "      <td>0</td>\n",
       "      <td>SC/PARIS 2148</td>\n",
       "      <td>13.8583</td>\n",
       "      <td>NaN</td>\n",
       "      <td>Cherbourg</td>\n",
       "    </tr>\n",
       "    <tr>\n",
       "      <th>1193</th>\n",
       "      <td>3rd</td>\n",
       "      <td>0</td>\n",
       "      <td>Scanlan, Mr. James</td>\n",
       "      <td>male</td>\n",
       "      <td>24.0</td>\n",
       "      <td>0</td>\n",
       "      <td>0</td>\n",
       "      <td>36209</td>\n",
       "      <td>7.7250</td>\n",
       "      <td>NaN</td>\n",
       "      <td>Queenstown</td>\n",
       "    </tr>\n",
       "    <tr>\n",
       "      <th>686</th>\n",
       "      <td>3rd</td>\n",
       "      <td>1</td>\n",
       "      <td>Bradley, Miss. Bridget Delia</td>\n",
       "      <td>female</td>\n",
       "      <td>22.0</td>\n",
       "      <td>0</td>\n",
       "      <td>0</td>\n",
       "      <td>334914</td>\n",
       "      <td>7.7250</td>\n",
       "      <td>NaN</td>\n",
       "      <td>Queenstown</td>\n",
       "    </tr>\n",
       "  </tbody>\n",
       "</table>\n",
       "</div>"
      ],
      "text/plain": [
       "     pclass  survived                             name     sex   age  sibsp  \\\n",
       "501     2nd         1  Mellinger, Miss. Madeleine Viol  female  13.0      0   \n",
       "588     2nd         1                Wells, Miss. Joan  female   4.0      1   \n",
       "402     2nd         1   Duran y More, Miss. Florentina  female  30.0      1   \n",
       "1193    3rd         0               Scanlan, Mr. James    male  24.0      0   \n",
       "686     3rd         1     Bradley, Miss. Bridget Delia  female  22.0      0   \n",
       "\n",
       "      parch         ticket     fare cabin     embarked  \n",
       "501       1         250644  19.5000   NaN  Southampton  \n",
       "588       1          29103  23.0000   NaN  Southampton  \n",
       "402       0  SC/PARIS 2148  13.8583   NaN    Cherbourg  \n",
       "1193      0          36209   7.7250   NaN   Queenstown  \n",
       "686       0         334914   7.7250   NaN   Queenstown  "
      ]
     },
     "execution_count": 60,
     "metadata": {},
     "output_type": "execute_result"
    }
   ],
   "source": [
    "sns.set_style('whitegrid')\n",
    "train_data.head()"
   ]
  },
  {
   "cell_type": "code",
   "execution_count": 61,
   "metadata": {},
   "outputs": [
    {
     "name": "stdout",
     "output_type": "stream",
     "text": [
      "<class 'pandas.core.frame.DataFrame'>\n",
      "Int64Index: 916 entries, 501 to 684\n",
      "Data columns (total 11 columns):\n",
      "pclass      916 non-null object\n",
      "survived    916 non-null int64\n",
      "name        916 non-null object\n",
      "sex         916 non-null object\n",
      "age         916 non-null float64\n",
      "sibsp       916 non-null int64\n",
      "parch       916 non-null int64\n",
      "ticket      916 non-null object\n",
      "fare        916 non-null float64\n",
      "cabin       214 non-null object\n",
      "embarked    914 non-null object\n",
      "dtypes: float64(2), int64(3), object(6)\n",
      "memory usage: 85.9+ KB\n",
      "****************************************\n",
      "<class 'pandas.core.frame.DataFrame'>\n",
      "Int64Index: 393 entries, 1139 to 88\n",
      "Data columns (total 11 columns):\n",
      "pclass      393 non-null object\n",
      "survived    393 non-null int64\n",
      "name        393 non-null object\n",
      "sex         393 non-null object\n",
      "age         393 non-null float64\n",
      "sibsp       393 non-null int64\n",
      "parch       393 non-null int64\n",
      "ticket      393 non-null object\n",
      "fare        392 non-null float64\n",
      "cabin       81 non-null object\n",
      "embarked    393 non-null object\n",
      "dtypes: float64(2), int64(3), object(6)\n",
      "memory usage: 36.8+ KB\n"
     ]
    }
   ],
   "source": [
    "train_data.info()\n",
    "print(\"*\"*40)\n",
    "test_data.info()"
   ]
  },
  {
   "cell_type": "code",
   "execution_count": 62,
   "metadata": {},
   "outputs": [
    {
     "data": {
      "text/plain": [
       "<matplotlib.axes._subplots.AxesSubplot at 0x127cb1e48>"
      ]
     },
     "execution_count": 62,
     "metadata": {},
     "output_type": "execute_result"
    },
    {
     "data": {
      "image/png": "[encoded data removed]",
      "text/plain": [
       "<Figure size 432x288 with 1 Axes>"
      ]
     },
     "metadata": {},
     "output_type": "display_data"
    }
   ],
   "source": [
    "train_data['survived'].value_counts().plot.pie(autopct = '%1.2f%%')"
   ]
  },
  {
   "cell_type": "markdown",
   "metadata": {},
   "source": [
    "## boxplot"
   ]
  },
  {
   "cell_type": "code",
   "execution_count": 63,
   "metadata": {},
   "outputs": [
    {
     "data": {
      "text/plain": [
       "<matplotlib.axes._subplots.AxesSubplot at 0x127c0eda0>"
      ]
     },
     "execution_count": 63,
     "metadata": {},
     "output_type": "execute_result"
    },
    {
     "data": {
      "image/png": "[encoded data removed]",
      "text/plain": [
       "<Figure size 432x288 with 1 Axes>"
      ]
     },
     "metadata": {},
     "output_type": "display_data"
    }
   ],
   "source": [
    "sns.boxplot(x='survived', y='age', data=train_data)"
   ]
  },
  {
   "cell_type": "markdown",
   "metadata": {},
   "source": [
    "## kdeplot"
   ]
  },
  {
   "cell_type": "code",
   "execution_count": 64,
   "metadata": {},
   "outputs": [
    {
     "data": {
      "text/plain": [
       "<seaborn.axisgrid.FacetGrid at 0x13204fe10>"
      ]
     },
     "execution_count": 64,
     "metadata": {},
     "output_type": "execute_result"
    },
    {
     "data": {
      "image/png": "[encoded data removed]",
      "text/plain": [
       "<Figure size 477.5x432 with 1 Axes>"
      ]
     },
     "metadata": {},
     "output_type": "display_data"
    }
   ],
   "source": [
    "sns.FacetGrid(train_data, hue='survived',size=6) \\\n",
    "   .map(sns.kdeplot, 'age') \\\n",
    "    .add_legend()"
   ]
  },
  {
   "cell_type": "markdown",
   "metadata": {},
   "source": [
    "## violinplot"
   ]
  },
  {
   "cell_type": "code",
   "execution_count": 65,
   "metadata": {},
   "outputs": [
    {
     "data": {
      "text/plain": [
       "<matplotlib.axes._subplots.AxesSubplot at 0x1320c4ac8>"
      ]
     },
     "execution_count": 65,
     "metadata": {},
     "output_type": "execute_result"
    },
    {
     "data": {
      "image/png": "[encoded data removed]",
      "text/plain": [
       "<Figure size 432x288 with 1 Axes>"
      ]
     },
     "metadata": {},
     "output_type": "display_data"
    }
   ],
   "source": [
    "\n",
    "sns.violinplot(x='survived', y='age', data=train_data, size=6)"
   ]
  },
  {
   "cell_type": "markdown",
   "metadata": {},
   "source": [
    "## FaceGrid"
   ]
  },
  {
   "cell_type": "code",
   "execution_count": 66,
   "metadata": {},
   "outputs": [
    {
     "data": {
      "text/plain": [
       "<seaborn.axisgrid.FacetGrid at 0x13215ac50>"
      ]
     },
     "execution_count": 66,
     "metadata": {},
     "output_type": "execute_result"
    },
    {
     "data": {
      "image/png": "[encoded data removed]",
      "text/plain": [
       "<Figure size 405.5x360 with 1 Axes>"
      ]
     },
     "metadata": {},
     "output_type": "display_data"
    }
   ],
   "source": [
    "sns.FacetGrid(train_data, hue=\"survived\", size=5) \\\n",
    "    .map(plt.scatter, \"age\", \"fare\") \\\n",
    "    .add_legend()"
   ]
  },
  {
   "cell_type": "code",
   "execution_count": null,
   "metadata": {},
   "outputs": [],
   "source": []
  },
  {
   "cell_type": "code",
   "execution_count": null,
   "metadata": {},
   "outputs": [],
   "source": []
  },
  {
   "cell_type": "markdown",
   "metadata": {},
   "source": [
    "# Let's back to visualize the dataset"
   ]
  },
  {
   "cell_type": "code",
   "execution_count": 67,
   "metadata": {},
   "outputs": [
    {
     "data": {
      "text/plain": [
       "array(['pclass', 'survived', 'name', 'sex', 'age', 'sibsp', 'parch',\n",
       "       'ticket', 'fare', 'cabin', 'embarked'], dtype=object)"
      ]
     },
     "execution_count": 67,
     "metadata": {},
     "output_type": "execute_result"
    }
   ],
   "source": [
    "import random as rnd\n",
    "\n",
    "# model packages\n",
    "from sklearn.linear_model import LogisticRegression\n",
    "from sklearn.svm import SVC,LinearSVC\n",
    "from sklearn.ensemble import RandomForestClassifier\n",
    "from sklearn.neighbors import KNeighborsClassifier\n",
    "from sklearn.naive_bayes import GaussianNB\n",
    "from sklearn.linear_model import Perceptron\n",
    "from sklearn.linear_model import SGDClassifier\n",
    "from sklearn.tree import DecisionTreeClassifier\n",
    "\n",
    "\n",
    "train_data.columns.values"
   ]
  },
  {
   "cell_type": "code",
   "execution_count": 68,
   "metadata": {},
   "outputs": [
    {
     "data": {
      "text/html": [
       "<div>\n",
       "<style scoped>\n",
       "    .dataframe tbody tr th:only-of-type {\n",
       "        vertical-align: middle;\n",
       "    }\n",
       "\n",
       "    .dataframe tbody tr th {\n",
       "        vertical-align: top;\n",
       "    }\n",
       "\n",
       "    .dataframe thead th {\n",
       "        text-align: right;\n",
       "    }\n",
       "</style>\n",
       "<table border=\"1\" class=\"dataframe\">\n",
       "  <thead>\n",
       "    <tr style=\"text-align: right;\">\n",
       "      <th></th>\n",
       "      <th>survived</th>\n",
       "      <th>age</th>\n",
       "      <th>sibsp</th>\n",
       "      <th>parch</th>\n",
       "      <th>fare</th>\n",
       "    </tr>\n",
       "  </thead>\n",
       "  <tbody>\n",
       "    <tr>\n",
       "      <th>count</th>\n",
       "      <td>916.000000</td>\n",
       "      <td>916.000000</td>\n",
       "      <td>916.000000</td>\n",
       "      <td>916.000000</td>\n",
       "      <td>916.000000</td>\n",
       "    </tr>\n",
       "    <tr>\n",
       "      <th>mean</th>\n",
       "      <td>0.385371</td>\n",
       "      <td>29.040939</td>\n",
       "      <td>0.532751</td>\n",
       "      <td>0.371179</td>\n",
       "      <td>32.532050</td>\n",
       "    </tr>\n",
       "    <tr>\n",
       "      <th>std</th>\n",
       "      <td>0.486949</td>\n",
       "      <td>12.768550</td>\n",
       "      <td>1.125957</td>\n",
       "      <td>0.837508</td>\n",
       "      <td>47.416524</td>\n",
       "    </tr>\n",
       "    <tr>\n",
       "      <th>min</th>\n",
       "      <td>0.000000</td>\n",
       "      <td>0.166700</td>\n",
       "      <td>0.000000</td>\n",
       "      <td>0.000000</td>\n",
       "      <td>0.000000</td>\n",
       "    </tr>\n",
       "    <tr>\n",
       "      <th>25%</th>\n",
       "      <td>0.000000</td>\n",
       "      <td>23.000000</td>\n",
       "      <td>0.000000</td>\n",
       "      <td>0.000000</td>\n",
       "      <td>7.895800</td>\n",
       "    </tr>\n",
       "    <tr>\n",
       "      <th>50%</th>\n",
       "      <td>0.000000</td>\n",
       "      <td>25.000000</td>\n",
       "      <td>0.000000</td>\n",
       "      <td>0.000000</td>\n",
       "      <td>14.454200</td>\n",
       "    </tr>\n",
       "    <tr>\n",
       "      <th>75%</th>\n",
       "      <td>1.000000</td>\n",
       "      <td>35.000000</td>\n",
       "      <td>1.000000</td>\n",
       "      <td>0.000000</td>\n",
       "      <td>31.275000</td>\n",
       "    </tr>\n",
       "    <tr>\n",
       "      <th>max</th>\n",
       "      <td>1.000000</td>\n",
       "      <td>74.000000</td>\n",
       "      <td>8.000000</td>\n",
       "      <td>9.000000</td>\n",
       "      <td>512.329224</td>\n",
       "    </tr>\n",
       "  </tbody>\n",
       "</table>\n",
       "</div>"
      ],
      "text/plain": [
       "         survived         age       sibsp       parch        fare\n",
       "count  916.000000  916.000000  916.000000  916.000000  916.000000\n",
       "mean     0.385371   29.040939    0.532751    0.371179   32.532050\n",
       "std      0.486949   12.768550    1.125957    0.837508   47.416524\n",
       "min      0.000000    0.166700    0.000000    0.000000    0.000000\n",
       "25%      0.000000   23.000000    0.000000    0.000000    7.895800\n",
       "50%      0.000000   25.000000    0.000000    0.000000   14.454200\n",
       "75%      1.000000   35.000000    1.000000    0.000000   31.275000\n",
       "max      1.000000   74.000000    8.000000    9.000000  512.329224"
      ]
     },
     "execution_count": 68,
     "metadata": {},
     "output_type": "execute_result"
    }
   ],
   "source": [
    "train_data.describe()"
   ]
  },
  {
   "cell_type": "code",
   "execution_count": 69,
   "metadata": {},
   "outputs": [
    {
     "data": {
      "text/html": [
       "<div>\n",
       "<style scoped>\n",
       "    .dataframe tbody tr th:only-of-type {\n",
       "        vertical-align: middle;\n",
       "    }\n",
       "\n",
       "    .dataframe tbody tr th {\n",
       "        vertical-align: top;\n",
       "    }\n",
       "\n",
       "    .dataframe thead th {\n",
       "        text-align: right;\n",
       "    }\n",
       "</style>\n",
       "<table border=\"1\" class=\"dataframe\">\n",
       "  <thead>\n",
       "    <tr style=\"text-align: right;\">\n",
       "      <th></th>\n",
       "      <th>pclass</th>\n",
       "      <th>survived</th>\n",
       "    </tr>\n",
       "  </thead>\n",
       "  <tbody>\n",
       "    <tr>\n",
       "      <th>0</th>\n",
       "      <td>1st</td>\n",
       "      <td>0.617391</td>\n",
       "    </tr>\n",
       "    <tr>\n",
       "      <th>1</th>\n",
       "      <td>2nd</td>\n",
       "      <td>0.436170</td>\n",
       "    </tr>\n",
       "    <tr>\n",
       "      <th>2</th>\n",
       "      <td>3rd</td>\n",
       "      <td>0.259036</td>\n",
       "    </tr>\n",
       "  </tbody>\n",
       "</table>\n",
       "</div>"
      ],
      "text/plain": [
       "  pclass  survived\n",
       "0    1st  0.617391\n",
       "1    2nd  0.436170\n",
       "2    3rd  0.259036"
      ]
     },
     "execution_count": 69,
     "metadata": {},
     "output_type": "execute_result"
    }
   ],
   "source": [
    "train_data[['pclass','survived']].groupby(['pclass'],as_index=False).mean()\\\n",
    ".sort_values(by='survived',ascending=False)"
   ]
  },
  {
   "cell_type": "markdown",
   "metadata": {},
   "source": [
    "Notice that survived max(0.617) matches to pclass=1st"
   ]
  },
  {
   "cell_type": "code",
   "execution_count": 70,
   "metadata": {},
   "outputs": [
    {
     "data": {
      "text/html": [
       "<div>\n",
       "<style scoped>\n",
       "    .dataframe tbody tr th:only-of-type {\n",
       "        vertical-align: middle;\n",
       "    }\n",
       "\n",
       "    .dataframe tbody tr th {\n",
       "        vertical-align: top;\n",
       "    }\n",
       "\n",
       "    .dataframe thead th {\n",
       "        text-align: right;\n",
       "    }\n",
       "</style>\n",
       "<table border=\"1\" class=\"dataframe\">\n",
       "  <thead>\n",
       "    <tr style=\"text-align: right;\">\n",
       "      <th></th>\n",
       "      <th>sex</th>\n",
       "      <th>survived</th>\n",
       "    </tr>\n",
       "  </thead>\n",
       "  <tbody>\n",
       "    <tr>\n",
       "      <th>0</th>\n",
       "      <td>female</td>\n",
       "      <td>0.728358</td>\n",
       "    </tr>\n",
       "    <tr>\n",
       "      <th>1</th>\n",
       "      <td>male</td>\n",
       "      <td>0.187608</td>\n",
       "    </tr>\n",
       "  </tbody>\n",
       "</table>\n",
       "</div>"
      ],
      "text/plain": [
       "      sex  survived\n",
       "0  female  0.728358\n",
       "1    male  0.187608"
      ]
     },
     "execution_count": 70,
     "metadata": {},
     "output_type": "execute_result"
    }
   ],
   "source": [
    "train_data[['sex','survived']].groupby(['sex'],as_index=False).mean()\\\n",
    ".sort_values(by='survived',ascending=False)"
   ]
  },
  {
   "cell_type": "markdown",
   "metadata": {},
   "source": [
    "female survived more than male"
   ]
  },
  {
   "cell_type": "code",
   "execution_count": 71,
   "metadata": {},
   "outputs": [
    {
     "data": {
      "text/html": [
       "<div>\n",
       "<style scoped>\n",
       "    .dataframe tbody tr th:only-of-type {\n",
       "        vertical-align: middle;\n",
       "    }\n",
       "\n",
       "    .dataframe tbody tr th {\n",
       "        vertical-align: top;\n",
       "    }\n",
       "\n",
       "    .dataframe thead th {\n",
       "        text-align: right;\n",
       "    }\n",
       "</style>\n",
       "<table border=\"1\" class=\"dataframe\">\n",
       "  <thead>\n",
       "    <tr style=\"text-align: right;\">\n",
       "      <th></th>\n",
       "      <th>sibsp</th>\n",
       "      <th>survived</th>\n",
       "    </tr>\n",
       "  </thead>\n",
       "  <tbody>\n",
       "    <tr>\n",
       "      <th>1</th>\n",
       "      <td>1</td>\n",
       "      <td>0.497797</td>\n",
       "    </tr>\n",
       "    <tr>\n",
       "      <th>2</th>\n",
       "      <td>2</td>\n",
       "      <td>0.375000</td>\n",
       "    </tr>\n",
       "    <tr>\n",
       "      <th>0</th>\n",
       "      <td>0</td>\n",
       "      <td>0.362602</td>\n",
       "    </tr>\n",
       "    <tr>\n",
       "      <th>3</th>\n",
       "      <td>3</td>\n",
       "      <td>0.333333</td>\n",
       "    </tr>\n",
       "    <tr>\n",
       "      <th>4</th>\n",
       "      <td>4</td>\n",
       "      <td>0.062500</td>\n",
       "    </tr>\n",
       "    <tr>\n",
       "      <th>5</th>\n",
       "      <td>5</td>\n",
       "      <td>0.000000</td>\n",
       "    </tr>\n",
       "    <tr>\n",
       "      <th>6</th>\n",
       "      <td>8</td>\n",
       "      <td>0.000000</td>\n",
       "    </tr>\n",
       "  </tbody>\n",
       "</table>\n",
       "</div>"
      ],
      "text/plain": [
       "   sibsp  survived\n",
       "1      1  0.497797\n",
       "2      2  0.375000\n",
       "0      0  0.362602\n",
       "3      3  0.333333\n",
       "4      4  0.062500\n",
       "5      5  0.000000\n",
       "6      8  0.000000"
      ]
     },
     "execution_count": 71,
     "metadata": {},
     "output_type": "execute_result"
    }
   ],
   "source": [
    "train_data[['sibsp','survived']].groupby(['sibsp'],as_index=False).mean()\\\n",
    ".sort_values(by='survived',ascending=False)"
   ]
  },
  {
   "cell_type": "code",
   "execution_count": 72,
   "metadata": {},
   "outputs": [
    {
     "data": {
      "text/html": [
       "<div>\n",
       "<style scoped>\n",
       "    .dataframe tbody tr th:only-of-type {\n",
       "        vertical-align: middle;\n",
       "    }\n",
       "\n",
       "    .dataframe tbody tr th {\n",
       "        vertical-align: top;\n",
       "    }\n",
       "\n",
       "    .dataframe thead th {\n",
       "        text-align: right;\n",
       "    }\n",
       "</style>\n",
       "<table border=\"1\" class=\"dataframe\">\n",
       "  <thead>\n",
       "    <tr style=\"text-align: right;\">\n",
       "      <th></th>\n",
       "      <th>parch</th>\n",
       "      <th>survived</th>\n",
       "    </tr>\n",
       "  </thead>\n",
       "  <tbody>\n",
       "    <tr>\n",
       "      <th>3</th>\n",
       "      <td>3</td>\n",
       "      <td>0.800000</td>\n",
       "    </tr>\n",
       "    <tr>\n",
       "      <th>1</th>\n",
       "      <td>1</td>\n",
       "      <td>0.573913</td>\n",
       "    </tr>\n",
       "    <tr>\n",
       "      <th>2</th>\n",
       "      <td>2</td>\n",
       "      <td>0.455696</td>\n",
       "    </tr>\n",
       "    <tr>\n",
       "      <th>0</th>\n",
       "      <td>0</td>\n",
       "      <td>0.347949</td>\n",
       "    </tr>\n",
       "    <tr>\n",
       "      <th>4</th>\n",
       "      <td>4</td>\n",
       "      <td>0.250000</td>\n",
       "    </tr>\n",
       "    <tr>\n",
       "      <th>5</th>\n",
       "      <td>5</td>\n",
       "      <td>0.000000</td>\n",
       "    </tr>\n",
       "    <tr>\n",
       "      <th>6</th>\n",
       "      <td>6</td>\n",
       "      <td>0.000000</td>\n",
       "    </tr>\n",
       "    <tr>\n",
       "      <th>7</th>\n",
       "      <td>9</td>\n",
       "      <td>0.000000</td>\n",
       "    </tr>\n",
       "  </tbody>\n",
       "</table>\n",
       "</div>"
      ],
      "text/plain": [
       "   parch  survived\n",
       "3      3  0.800000\n",
       "1      1  0.573913\n",
       "2      2  0.455696\n",
       "0      0  0.347949\n",
       "4      4  0.250000\n",
       "5      5  0.000000\n",
       "6      6  0.000000\n",
       "7      9  0.000000"
      ]
     },
     "execution_count": 72,
     "metadata": {},
     "output_type": "execute_result"
    }
   ],
   "source": [
    "train_data[['parch','survived']].groupby(['parch'],as_index=False).mean()\\\n",
    ".sort_values(by='survived',ascending=False)"
   ]
  },
  {
   "cell_type": "markdown",
   "metadata": {},
   "source": [
    "We can see that parch and sibsp are not important than other features"
   ]
  },
  {
   "cell_type": "markdown",
   "metadata": {},
   "source": [
    "### age with survived"
   ]
  },
  {
   "cell_type": "code",
   "execution_count": 73,
   "metadata": {},
   "outputs": [
    {
     "data": {
      "text/plain": [
       "<seaborn.axisgrid.FacetGrid at 0x1322361d0>"
      ]
     },
     "execution_count": 73,
     "metadata": {},
     "output_type": "execute_result"
    },
    {
     "data": {
      "image/png": "[encoded data removed]",
      "text/plain": [
       "<Figure size 432x216 with 2 Axes>"
      ]
     },
     "metadata": {},
     "output_type": "display_data"
    }
   ],
   "source": [
    "g = sns.FacetGrid(train_data,col='survived')\n",
    "g.map(plt.hist,'age',bins=20)"
   ]
  },
  {
   "cell_type": "markdown",
   "metadata": {},
   "source": [
    "### plcass with survived"
   ]
  },
  {
   "cell_type": "code",
   "execution_count": 74,
   "metadata": {},
   "outputs": [
    {
     "data": {
      "text/plain": [
       "<seaborn.axisgrid.FacetGrid at 0x13223bf98>"
      ]
     },
     "execution_count": 74,
     "metadata": {},
     "output_type": "execute_result"
    },
    {
     "data": {
      "image/png": "[encoded data removed]",
      "text/plain": [
       "<Figure size 1211.84x475.2 with 6 Axes>"
      ]
     },
     "metadata": {},
     "output_type": "display_data"
    }
   ],
   "source": [
    "grid = sns.FacetGrid(train_data,col='survived',row='pclass',size=2.2,aspect=3.8)\n",
    "grid.map(plt.hist,'age',alpha=.5,bins=20)\n",
    "grid.add_legend()"
   ]
  },
  {
   "cell_type": "markdown",
   "metadata": {},
   "source": [
    "### different embarked, different pclass, different sex with survived"
   ]
  },
  {
   "cell_type": "code",
   "execution_count": 75,
   "metadata": {},
   "outputs": [
    {
     "data": {
      "text/plain": [
       "<seaborn.axisgrid.FacetGrid at 0x1326e6898>"
      ]
     },
     "execution_count": 75,
     "metadata": {},
     "output_type": "execute_result"
    },
    {
     "data": {
      "image/png": "[encoded data removed]",
      "text/plain": [
       "<Figure size 319.565x475.2 with 3 Axes>"
      ]
     },
     "metadata": {},
     "output_type": "display_data"
    }
   ],
   "source": [
    "grid = sns.FacetGrid(train_data,row='embarked',size=2.2,aspect=1.6)\n",
    "grid.map(sns.pointplot,'pclass','survived','sex',palette='deep',\\\n",
    "        hue_order=[\"female\",\"male\"])\n",
    "grid.add_legend()"
   ]
  },
  {
   "cell_type": "code",
   "execution_count": 76,
   "metadata": {},
   "outputs": [
    {
     "data": {
      "text/plain": [
       "<seaborn.axisgrid.FacetGrid at 0x1324d5710>"
      ]
     },
     "execution_count": 76,
     "metadata": {},
     "output_type": "execute_result"
    },
    {
     "data": {
      "image/png": "[encoded data removed]",
      "text/plain": [
       "<Figure size 514.88x475.2 with 6 Axes>"
      ]
     },
     "metadata": {},
     "output_type": "display_data"
    }
   ],
   "source": [
    "grid = sns.FacetGrid(train_data,row='embarked',col='survived',size=2.2,aspect=1.6)\n",
    "\n",
    "grid.map(sns.barplot,'sex','fare',alpha=.6,ci=None,order=['female','male'])\n",
    "grid.add_legend()"
   ]
  },
  {
   "cell_type": "markdown",
   "metadata": {},
   "source": [
    "### different embarked, different pclass and different sex with survived"
   ]
  },
  {
   "cell_type": "code",
   "execution_count": 77,
   "metadata": {},
   "outputs": [
    {
     "data": {
      "text/plain": [
       "<seaborn.axisgrid.FacetGrid at 0x128544a58>"
      ]
     },
     "execution_count": 77,
     "metadata": {},
     "output_type": "execute_result"
    },
    {
     "data": {
      "image/png": "[encoded data removed]",
      "text/plain": [
       "<Figure size 319.565x475.2 with 3 Axes>"
      ]
     },
     "metadata": {},
     "output_type": "display_data"
    }
   ],
   "source": [
    "grid = sns.FacetGrid(train_data,row='embarked',size=2.2,aspect=1.6)\n",
    "grid.map(sns.pointplot,'pclass','survived','sex',palette='deep',\\\n",
    "        hue_order=[\"female\",\"male\"])\n",
    "grid.add_legend()"
   ]
  },
  {
   "cell_type": "markdown",
   "metadata": {},
   "source": [
    "### different embarked, different sex and fare with survived"
   ]
  },
  {
   "cell_type": "code",
   "execution_count": 78,
   "metadata": {
    "scrolled": false
   },
   "outputs": [
    {
     "data": {
      "text/plain": [
       "<seaborn.axisgrid.FacetGrid at 0x132f327b8>"
      ]
     },
     "execution_count": 78,
     "metadata": {},
     "output_type": "execute_result"
    },
    {
     "data": {
      "image/png": "[encoded data removed]",
      "text/plain": [
       "<Figure size 514.88x475.2 with 6 Axes>"
      ]
     },
     "metadata": {},
     "output_type": "display_data"
    }
   ],
   "source": [
    "grid = sns.FacetGrid(train_data,row='embarked',col='survived',size=2.2,aspect=1.6)\n",
    "\n",
    "grid.map(sns.barplot,'sex','fare',alpha=.6,ci=None,order=['female','male'])\n",
    "grid.add_legend()"
   ]
  },
  {
   "cell_type": "markdown",
   "metadata": {},
   "source": [
    "### remove \"ticket\" and \"cabin\""
   ]
  },
  {
   "cell_type": "code",
   "execution_count": 79,
   "metadata": {},
   "outputs": [],
   "source": [
    "train_data = train_data.drop(['ticket','cabin'],axis=1)\n",
    "test_data = test_data.drop(['ticket','cabin'],axis=1)\n",
    "combine = [train_data,test_data]"
   ]
  },
  {
   "cell_type": "code",
   "execution_count": 80,
   "metadata": {},
   "outputs": [
    {
     "data": {
      "text/plain": [
       "[     pclass  survived                              name     sex      age  \\\n",
       " 501     2nd         1   Mellinger, Miss. Madeleine Viol  female  13.0000   \n",
       " 588     2nd         1                 Wells, Miss. Joan  female   4.0000   \n",
       " 402     2nd         1    Duran y More, Miss. Florentina  female  30.0000   \n",
       " 1193    3rd         0                Scanlan, Mr. James    male  24.0000   \n",
       " 686     3rd         1      Bradley, Miss. Bridget Delia  female  22.0000   \n",
       " 971     3rd         0              Linehan, Mr. Michael    male  24.0000   \n",
       " 117     1st         1    Francatelli, Miss. Laura Mabel  female  30.0000   \n",
       " 540     2nd         1          Quick, Miss. Phyllis May  female   2.0000   \n",
       " 294     1st         0          Thayer, Mr. John Borland    male  49.0000   \n",
       " 261     1st         1   Silverthorne, Mr. Spencer Victo    male  35.0000   \n",
       " 587     2nd         1       Wells, Master. Ralph Lester    male   2.0000   \n",
       " 489     2nd         1   Louch, Mrs. Charles Alexander (  female  42.0000   \n",
       " 2       1st         0      Allison, Miss. Helen Loraine  female   2.0000   \n",
       " 405     2nd         0         Fahlstrom, Mr. Arne Jonas    male  18.0000   \n",
       " 1284    3rd         0                 Webber, Mr. James    male  24.0000   \n",
       " 338     2nd         0        Beauchamp, Mr. Henry James    male  28.0000   \n",
       " 356     2nd         0       Butler, Mr. Reginald Fenton    male  25.0000   \n",
       " 985     3rd         1         Madsen, Mr. Fridtjof Arne    male  24.0000   \n",
       " 182     1st         1               LeRoy, Miss. Bertha  female  30.0000   \n",
       " 1027    3rd         0        Moore, Mr. Leonard Charles    male  24.0000   \n",
       " 1023    3rd         1  Mockler, Miss. Helen Mary \\\"Elli  female  24.0000   \n",
       " 657     3rd         1            Baclini, Miss. Eugenie  female   0.7500   \n",
       " 891     3rd         0        Johansson, Mr. Gustaf Joel    male  33.0000   \n",
       " 716     3rd         0       Chronopoulos, Mr. Apostolos    male  26.0000   \n",
       " 1142    3rd         0              Rice, Master. Arthur    male   4.0000   \n",
       " 520     2nd         1  Nourney, Mr. Alfred (\\\"Baron von    male  20.0000   \n",
       " 1267    3rd         0   Van Impe, Mrs. Jean Baptiste (R  female  30.0000   \n",
       " 395     2nd         1               Doling, Miss. Elsie  female  18.0000   \n",
       " 905     3rd         1                 Jonsson, Mr. Carl    male  32.0000   \n",
       " 278     1st         1         Stahelin-Maeglin, Dr. Max    male  32.0000   \n",
       " ...     ...       ...                               ...     ...      ...   \n",
       " 659     3rd         1    Baclini, Miss. Marie Catherine  female   5.0000   \n",
       " 797     3rd         0                Farrell, Mr. James    male  40.5000   \n",
       " 1286    3rd         1   Whabee, Mrs. George Joseph (Sha  female  38.0000   \n",
       " 1201    3rd         0             Sirayanian, Mr. Orsen    male  22.0000   \n",
       " 99      1st         1   Duff Gordon, Lady. (Lucille Chr  female  48.0000   \n",
       " 850     3rd         0       Hansen, Mr. Henry Damsgaard    male  21.0000   \n",
       " 448     2nd         0   Hocking, Mr. Samuel James Metca    male  36.0000   \n",
       " 755     3rd         0                Davies, Mr. Joseph    male  17.0000   \n",
       " 976     3rd         0               Lockyer, Mr. Edward    male  24.0000   \n",
       " 115     1st         0                 Fortune, Mr. Mark    male  64.0000   \n",
       " 777     3rd         1        Dorking, Mr. Edward Arthur    male  19.0000   \n",
       " 72      1st         1   Clark, Mrs. Walter Miller (Virg  female  26.0000   \n",
       " 845     3rd         1   Hakkarainen, Mrs. Pekka Pietari  female  24.0000   \n",
       " 537     2nd         0              Ponesell, Mr. Martin    male  34.0000   \n",
       " 849     3rd         0           Hansen, Mr. Henrik Juul    male  26.0000   \n",
       " 174     1st         0           Kent, Mr. Edward Austin    male  58.0000   \n",
       " 87      1st         1       Daniel, Mr. Robert Williams    male  27.0000   \n",
       " 551     2nd         1              Ridsdale, Miss. Lucy  female  50.0000   \n",
       " 705     3rd         0                 Caram, Mr. Joseph    male  24.0000   \n",
       " 314     1st         1   Widener, Mrs. George Dunton (El  female  50.0000   \n",
       " 600     3rd         0               Abbing, Mr. Anthony    male  42.0000   \n",
       " 1094    3rd         1                  Osman, Mrs. Mara  female  31.0000   \n",
       " 599     2nd         0  Yrois, Miss. Henriette (\\\"Mrs Ha  female  24.0000   \n",
       " 277     1st         1    Spencer, Mrs. William Augustus  female  24.0000   \n",
       " 1033    3rd         1            Moss, Mr. Albert Johan    male  24.0000   \n",
       " 763     3rd         1  Dean, Miss. Elizabeth Gladys \\\"M  female   0.1667   \n",
       " 835     3rd         0                 Guest, Mr. Robert    male  24.0000   \n",
       " 1216    3rd         1                Smyth, Miss. Julia  female  24.0000   \n",
       " 559     2nd         1              Sincock, Miss. Maude  female  20.0000   \n",
       " 684     3rd         0     Bourke, Mrs. John (Catherine)  female  32.0000   \n",
       " \n",
       "       sibsp  parch        fare     embarked  \n",
       " 501       0      1   19.500000  Southampton  \n",
       " 588       1      1   23.000000  Southampton  \n",
       " 402       1      0   13.858300    Cherbourg  \n",
       " 1193      0      0    7.725000   Queenstown  \n",
       " 686       0      0    7.725000   Queenstown  \n",
       " 971       0      0    7.879200   Queenstown  \n",
       " 117       0      0   56.929199    Cherbourg  \n",
       " 540       1      1   26.000000  Southampton  \n",
       " 294       1      1  110.883301    Cherbourg  \n",
       " 261       0      0   26.287500  Southampton  \n",
       " 587       1      1   23.000000  Southampton  \n",
       " 489       1      0   26.000000  Southampton  \n",
       " 2         1      2  151.550003  Southampton  \n",
       " 405       0      0   13.000000  Southampton  \n",
       " 1284      0      0    8.050000  Southampton  \n",
       " 338       0      0   26.000000  Southampton  \n",
       " 356       0      0   13.000000  Southampton  \n",
       " 985       0      0    7.141700  Southampton  \n",
       " 182       0      0  106.425003    Cherbourg  \n",
       " 1027      0      0    8.050000  Southampton  \n",
       " 1023      0      0    7.879200   Queenstown  \n",
       " 657       2      1   19.258301    Cherbourg  \n",
       " 891       0      0    8.654200  Southampton  \n",
       " 716       1      0   14.454200    Cherbourg  \n",
       " 1142      4      1   29.125000   Queenstown  \n",
       " 520       0      0   13.862500    Cherbourg  \n",
       " 1267      1      1   24.150000  Southampton  \n",
       " 395       0      1   23.000000  Southampton  \n",
       " 905       0      0    7.854200  Southampton  \n",
       " 278       0      0   30.500000    Cherbourg  \n",
       " ...     ...    ...         ...          ...  \n",
       " 659       2      1   19.258301    Cherbourg  \n",
       " 797       0      0    7.750000   Queenstown  \n",
       " 1286      0      0    7.229200    Cherbourg  \n",
       " 1201      0      0    7.229200    Cherbourg  \n",
       " 99        1      0   39.599998    Cherbourg  \n",
       " 850       0      0    7.854200  Southampton  \n",
       " 448       0      0   13.000000  Southampton  \n",
       " 755       2      0    8.050000  Southampton  \n",
       " 976       0      0    7.879200  Southampton  \n",
       " 115       1      4  263.000000  Southampton  \n",
       " 777       0      0    8.050000  Southampton  \n",
       " 72        1      0  136.779205    Cherbourg  \n",
       " 845       1      0   15.850000  Southampton  \n",
       " 537       0      0   13.000000  Southampton  \n",
       " 849       1      0    7.854200  Southampton  \n",
       " 174       0      0   29.700001    Cherbourg  \n",
       " 87        0      0   30.500000  Southampton  \n",
       " 551       0      0   10.500000  Southampton  \n",
       " 705       1      0   14.458300    Cherbourg  \n",
       " 314       1      1  211.500000    Cherbourg  \n",
       " 600       0      0    7.550000  Southampton  \n",
       " 1094      0      0    8.683300  Southampton  \n",
       " 599       0      0   13.000000  Southampton  \n",
       " 277       1      0  146.520798    Cherbourg  \n",
       " 1033      0      0    7.775000  Southampton  \n",
       " 763       1      2   20.575001  Southampton  \n",
       " 835       0      0    8.050000  Southampton  \n",
       " 1216      0      0    7.733300   Queenstown  \n",
       " 559       0      0   36.750000  Southampton  \n",
       " 684       1      1   15.500000   Queenstown  \n",
       " \n",
       " [916 rows x 9 columns],\n",
       "      pclass  survived                              name     sex      age  \\\n",
       " 1139    3rd         0                   Rekic, Mr. Tido    male  38.0000   \n",
       " 533     2nd         1   Phillips, Miss. Alice Frances L  female  21.0000   \n",
       " 459     2nd         0      Jacobsohn, Mr. Sidney Samuel    male  42.0000   \n",
       " 1150    3rd         0          Risien, Mr. Samuel Beard    male  24.0000   \n",
       " 393     2nd         0              Denbury, Mr. Herbert    male  25.0000   \n",
       " 1189    3rd         1   Sandstrom, Miss. Marguerite Rut  female   4.0000   \n",
       " 5       1st         1               Anderson, Mr. Harry    male  48.0000   \n",
       " 231     1st         1    Peuchen, Major. Arthur Godfrey    male  52.0000   \n",
       " 330     2nd         0                   Ashby, Mr. John    male  57.0000   \n",
       " 887     3rd         1   Johannesen-Bratthammer, Mr. Ber    male  24.0000   \n",
       " 531     2nd         0                  Pernot, Mr. Rene    male  24.0000   \n",
       " 790     3rd         0                 Elias, Mr. Joseph    male  39.0000   \n",
       " 427     2nd         1         Hamalainen, Master. Viljo    male   0.6667   \n",
       " 1260    3rd         1           Turja, Miss. Anna Sofia  female  18.0000   \n",
       " 251     1st         1  Ryerson, Miss. Susan Parker \\\"Su  female  21.0000   \n",
       " 486     2nd         0   Leyson, Mr. Robert William Norm    male  24.0000   \n",
       " 436     2nd         1   Hart, Mrs. Benjamin (Esther Ada  female  45.0000   \n",
       " 31      1st         1                  Blank, Mr. Henry    male  40.0000   \n",
       " 186     1st         1   Lindstrom, Mrs. Carl Johan (Sig  female  55.0000   \n",
       " 1051    3rd         0      Nancarrow, Mr. William Henry    male  33.0000   \n",
       " 769     3rd         0                Dennis, Mr. Samuel    male  22.0000   \n",
       " 642     3rd         0      Asplund, Master. Filip Oscar    male  13.0000   \n",
       " 1087    3rd         0   Olsson, Mr. Nils Johan Goransso    male  28.0000   \n",
       " 55      1st         1         Carter, Miss. Lucile Polk  female  14.0000   \n",
       " 678     3rd         0              Boulos, Master. Akar    male   6.0000   \n",
       " 358     2nd         1          Bystrom, Mrs. (Karolina)  female  42.0000   \n",
       " 503     2nd         1         Mellors, Mr. William John    male  19.0000   \n",
       " 995     3rd         0                Markoff, Mr. Marin    male  35.0000   \n",
       " 1005    3rd         0               McEvoy, Mr. Michael    male  24.0000   \n",
       " 1279    3rd         0   Vestrom, Miss. Hulda Amanda Ado  female  14.0000   \n",
       " ...     ...       ...                               ...     ...      ...   \n",
       " 1157    3rd         0       Rosblom, Mr. Viktor Richard    male  18.0000   \n",
       " 936     3rd         1   Kink-Heilmann, Mrs. Anton (Luis  female  26.0000   \n",
       " 467     2nd         1   Kantor, Mrs. Sinai (Miriam Ster  female  24.0000   \n",
       " 97      1st         1   Douglas, Mrs. Frederick Charles  female  27.0000   \n",
       " 1003    3rd         1                McCoy, Mr. Bernard    male  24.0000   \n",
       " 1253    3rd         0                  Torfa, Mr. Assad    male  24.0000   \n",
       " 1140    3rd         0            Reynolds, Mr. Harold J    male  21.0000   \n",
       " 196     1st         1              Marechal, Mr. Pierre    male  24.0000   \n",
       " 883     3rd         0            Jensen, Mr. Hans Peder    male  20.0000   \n",
       " 183     1st         1            Lesurer, Mr. Gustave J    male  35.0000   \n",
       " 1270    3rd         0    Vande Walle, Mr. Nestor Cyriel    male  28.0000   \n",
       " 431     2nd         0                 Harper, Rev. John    male  28.0000   \n",
       " 526     2nd         1     Pallas y Castello, Mr. Emilio    male  29.0000   \n",
       " 815     3rd         0                Garfirth, Mr. John    male  24.0000   \n",
       " 933     3rd         0                 Kink, Mr. Vincenz    male  26.0000   \n",
       " 1206    3rd         0             Skoog, Master. Harald    male   4.0000   \n",
       " 175     1st         0           Kenyon, Mr. Frederick R    male  41.0000   \n",
       " 1292    3rd         0                Willey, Mr. Edward    male  24.0000   \n",
       " 81      1st         0      Crosby, Capt. Edward Gifford    male  70.0000   \n",
       " 267     1st         0           Smith, Mr. James Clinch    male  56.0000   \n",
       " 77      1st         0   Compton, Mr. Alexander Taylor J    male  37.0000   \n",
       " 1225    3rd         0                Storey, Mr. Thomas    male  60.5000   \n",
       " 452     2nd         1   Hold, Mrs. Stephen (Annie Marga  female  29.0000   \n",
       " 895     3rd         1      Johnson, Miss. Eleanor Ileen  female   1.0000   \n",
       " 900     3rd         0   Johnston, Master. William Arthu    male  24.0000   \n",
       " 914     3rd         0   Karlsson, Mr. Julius Konrad Eug    male  33.0000   \n",
       " 580     2nd         1   Ware, Mrs. John James (Florence  female  31.0000   \n",
       " 1080    3rd         1              O'Keefe, Mr. Patrick    male  24.0000   \n",
       " 1249    3rd         0                  Tobin, Mr. Roger    male  24.0000   \n",
       " 88      1st         1              Daniels, Miss. Sarah  female  33.0000   \n",
       " \n",
       "       sibsp  parch        fare     embarked  \n",
       " 1139      0      0    7.895800  Southampton  \n",
       " 533       0      1   21.000000  Southampton  \n",
       " 459       1      0   27.000000  Southampton  \n",
       " 1150      0      0   14.500000  Southampton  \n",
       " 393       0      0   31.500000  Southampton  \n",
       " 1189      1      1   16.700001  Southampton  \n",
       " 5         0      0   26.549999  Southampton  \n",
       " 231       0      0   30.500000  Southampton  \n",
       " 330       0      0   13.000000  Southampton  \n",
       " 887       0      0    8.112500  Southampton  \n",
       " 531       0      0   15.050000    Cherbourg  \n",
       " 790       0      2    7.229200    Cherbourg  \n",
       " 427       1      1   14.500000  Southampton  \n",
       " 1260      0      0    9.841700  Southampton  \n",
       " 251       2      2  262.375000    Cherbourg  \n",
       " 486       0      0   10.500000  Southampton  \n",
       " 436       1      1   26.250000  Southampton  \n",
       " 31        0      0   31.000000    Cherbourg  \n",
       " 186       0      0   27.720800    Cherbourg  \n",
       " 1051      0      0    8.050000  Southampton  \n",
       " 769       0      0    7.250000  Southampton  \n",
       " 642       4      2   31.387501  Southampton  \n",
       " 1087      0      0    7.854200  Southampton  \n",
       " 55        1      2  120.000000  Southampton  \n",
       " 678       1      1   15.245800    Cherbourg  \n",
       " 358       0      0   13.000000  Southampton  \n",
       " 503       0      0   10.500000  Southampton  \n",
       " 995       0      0    7.895800    Cherbourg  \n",
       " 1005      0      0   15.500000   Queenstown  \n",
       " 1279      0      0    7.854200  Southampton  \n",
       " ...     ...    ...         ...          ...  \n",
       " 1157      1      1   20.212500  Southampton  \n",
       " 936       1      1   22.025000  Southampton  \n",
       " 467       1      0   26.000000  Southampton  \n",
       " 97        1      1  247.520798    Cherbourg  \n",
       " 1003      2      0   23.250000   Queenstown  \n",
       " 1253      0      0    7.229200    Cherbourg  \n",
       " 1140      0      0    8.050000  Southampton  \n",
       " 196       0      0   29.700001    Cherbourg  \n",
       " 883       0      0    7.854200  Southampton  \n",
       " 183       0      0  512.329224    Cherbourg  \n",
       " 1270      0      0    9.500000  Southampton  \n",
       " 431       0      1   33.000000  Southampton  \n",
       " 526       0      0   13.858300    Cherbourg  \n",
       " 815       0      0   14.500000  Southampton  \n",
       " 933       2      0    8.662500  Southampton  \n",
       " 1206      3      2   27.900000  Southampton  \n",
       " 175       1      0   51.862499  Southampton  \n",
       " 1292      0      0    7.550000  Southampton  \n",
       " 81        1      1   71.000000  Southampton  \n",
       " 267       0      0   30.695801    Cherbourg  \n",
       " 77        1      1   83.158302    Cherbourg  \n",
       " 1225      0      0         NaN  Southampton  \n",
       " 452       1      0   26.000000  Southampton  \n",
       " 895       1      1   11.133300  Southampton  \n",
       " 900       1      2   23.450001  Southampton  \n",
       " 914       0      0    7.854200  Southampton  \n",
       " 580       0      0   21.000000  Southampton  \n",
       " 1080      0      0    7.750000   Queenstown  \n",
       " 1249      0      0    7.750000   Queenstown  \n",
       " 88        0      0  151.550003  Southampton  \n",
       " \n",
       " [393 rows x 9 columns]]"
      ]
     },
     "execution_count": 80,
     "metadata": {},
     "output_type": "execute_result"
    }
   ],
   "source": [
    "combine"
   ]
  },
  {
   "cell_type": "markdown",
   "metadata": {},
   "source": [
    "### create a Title to see the title of name has influence survived or not"
   ]
  },
  {
   "cell_type": "code",
   "execution_count": 81,
   "metadata": {},
   "outputs": [
    {
     "name": "stdout",
     "output_type": "stream",
     "text": [
      "sex       female  male\n",
      "Title                 \n",
      "Col            0     3\n",
      "Countess       1     0\n",
      "Dona           1     0\n",
      "Dr             1     7\n",
      "Jonkheer       0     1\n",
      "Lady           1     0\n",
      "Master         0    40\n",
      "Miss         185     0\n",
      "Mlle           2     0\n",
      "Mme            1     0\n",
      "Mr             0   523\n",
      "Mrs          142     0\n",
      "Ms             1     0\n",
      "Rev            0     6\n",
      "Sir            0     1\n"
     ]
    }
   ],
   "source": [
    "for dataset in combine:\n",
    "    dataset['Title'] = dataset.name.str.extract(' ([A-Za-z]+)\\.',expand=False)\n",
    "\n",
    "test_crosstab = pd.crosstab(train_data['Title'],train_data['sex'])\n",
    "print(test_crosstab)"
   ]
  },
  {
   "cell_type": "code",
   "execution_count": 82,
   "metadata": {},
   "outputs": [
    {
     "name": "stdout",
     "output_type": "stream",
     "text": [
      "    Title  survived\n",
      "0  Master  0.500000\n",
      "1    Miss  0.686170\n",
      "2      Mr  0.158700\n",
      "3     Mrs  0.776224\n",
      "4    Rare  0.454545\n"
     ]
    }
   ],
   "source": [
    "for dataset in combine:\n",
    "    dataset['Title'] = dataset['Title'].replace(['Lady','Countess','Capt','Col',\\\n",
    "                                                'Don','Dr','Major','Rev','Sir',\\\n",
    "                                                'Jonkheer','Dona'],'Rare')\n",
    "    dataset['Title'] = dataset['Title'].replace('Mlle','Miss')\n",
    "    dataset['Title'] = dataset['Title'].replace('Ms','Miss')\n",
    "    dataset['Title'] = dataset['Title'].replace('Mme','Mrs')\n",
    "print(train_data[['Title','survived']].groupby(['Title'],as_index=False).mean())"
   ]
  },
  {
   "cell_type": "markdown",
   "metadata": {},
   "source": [
    "### Add title with number"
   ]
  },
  {
   "cell_type": "code",
   "execution_count": 83,
   "metadata": {},
   "outputs": [
    {
     "data": {
      "text/html": [
       "<div>\n",
       "<style scoped>\n",
       "    .dataframe tbody tr th:only-of-type {\n",
       "        vertical-align: middle;\n",
       "    }\n",
       "\n",
       "    .dataframe tbody tr th {\n",
       "        vertical-align: top;\n",
       "    }\n",
       "\n",
       "    .dataframe thead th {\n",
       "        text-align: right;\n",
       "    }\n",
       "</style>\n",
       "<table border=\"1\" class=\"dataframe\">\n",
       "  <thead>\n",
       "    <tr style=\"text-align: right;\">\n",
       "      <th></th>\n",
       "      <th>pclass</th>\n",
       "      <th>survived</th>\n",
       "      <th>name</th>\n",
       "      <th>sex</th>\n",
       "      <th>age</th>\n",
       "      <th>sibsp</th>\n",
       "      <th>parch</th>\n",
       "      <th>fare</th>\n",
       "      <th>embarked</th>\n",
       "      <th>Title</th>\n",
       "    </tr>\n",
       "  </thead>\n",
       "  <tbody>\n",
       "    <tr>\n",
       "      <th>501</th>\n",
       "      <td>2nd</td>\n",
       "      <td>1</td>\n",
       "      <td>Mellinger, Miss. Madeleine Viol</td>\n",
       "      <td>female</td>\n",
       "      <td>13.0</td>\n",
       "      <td>0</td>\n",
       "      <td>1</td>\n",
       "      <td>19.5000</td>\n",
       "      <td>Southampton</td>\n",
       "      <td>2</td>\n",
       "    </tr>\n",
       "    <tr>\n",
       "      <th>588</th>\n",
       "      <td>2nd</td>\n",
       "      <td>1</td>\n",
       "      <td>Wells, Miss. Joan</td>\n",
       "      <td>female</td>\n",
       "      <td>4.0</td>\n",
       "      <td>1</td>\n",
       "      <td>1</td>\n",
       "      <td>23.0000</td>\n",
       "      <td>Southampton</td>\n",
       "      <td>2</td>\n",
       "    </tr>\n",
       "    <tr>\n",
       "      <th>402</th>\n",
       "      <td>2nd</td>\n",
       "      <td>1</td>\n",
       "      <td>Duran y More, Miss. Florentina</td>\n",
       "      <td>female</td>\n",
       "      <td>30.0</td>\n",
       "      <td>1</td>\n",
       "      <td>0</td>\n",
       "      <td>13.8583</td>\n",
       "      <td>Cherbourg</td>\n",
       "      <td>2</td>\n",
       "    </tr>\n",
       "    <tr>\n",
       "      <th>1193</th>\n",
       "      <td>3rd</td>\n",
       "      <td>0</td>\n",
       "      <td>Scanlan, Mr. James</td>\n",
       "      <td>male</td>\n",
       "      <td>24.0</td>\n",
       "      <td>0</td>\n",
       "      <td>0</td>\n",
       "      <td>7.7250</td>\n",
       "      <td>Queenstown</td>\n",
       "      <td>1</td>\n",
       "    </tr>\n",
       "    <tr>\n",
       "      <th>686</th>\n",
       "      <td>3rd</td>\n",
       "      <td>1</td>\n",
       "      <td>Bradley, Miss. Bridget Delia</td>\n",
       "      <td>female</td>\n",
       "      <td>22.0</td>\n",
       "      <td>0</td>\n",
       "      <td>0</td>\n",
       "      <td>7.7250</td>\n",
       "      <td>Queenstown</td>\n",
       "      <td>2</td>\n",
       "    </tr>\n",
       "  </tbody>\n",
       "</table>\n",
       "</div>"
      ],
      "text/plain": [
       "     pclass  survived                             name     sex   age  sibsp  \\\n",
       "501     2nd         1  Mellinger, Miss. Madeleine Viol  female  13.0      0   \n",
       "588     2nd         1                Wells, Miss. Joan  female   4.0      1   \n",
       "402     2nd         1   Duran y More, Miss. Florentina  female  30.0      1   \n",
       "1193    3rd         0               Scanlan, Mr. James    male  24.0      0   \n",
       "686     3rd         1     Bradley, Miss. Bridget Delia  female  22.0      0   \n",
       "\n",
       "      parch     fare     embarked  Title  \n",
       "501       1  19.5000  Southampton      2  \n",
       "588       1  23.0000  Southampton      2  \n",
       "402       0  13.8583    Cherbourg      2  \n",
       "1193      0   7.7250   Queenstown      1  \n",
       "686       0   7.7250   Queenstown      2  "
      ]
     },
     "execution_count": 83,
     "metadata": {},
     "output_type": "execute_result"
    }
   ],
   "source": [
    "title_mapping = {\"Mr\":1,\"Miss\":2,\"Mrs\":3,\"Master\":4,\"Rare\":5}\n",
    "for dataset in combine:\n",
    "    dataset['Title'] = dataset['Title'].map(title_mapping)\n",
    "    dataset['Title'] = dataset['Title'].fillna(0)\n",
    "train_data.head()"
   ]
  },
  {
   "cell_type": "code",
   "execution_count": 84,
   "metadata": {},
   "outputs": [
    {
     "name": "stdout",
     "output_type": "stream",
     "text": [
      "(916, 9) (393, 9)\n"
     ]
    }
   ],
   "source": [
    "train_data = train_data.drop(['name'],axis=1)\n",
    "test_data  = test_data.drop(['name'],axis=1)\n",
    "combine = [train_data,test_data]\n",
    "print(train_data.shape,test_data.shape)"
   ]
  },
  {
   "cell_type": "markdown",
   "metadata": {},
   "source": [
    "### replace male and female with 1 and 0"
   ]
  },
  {
   "cell_type": "code",
   "execution_count": 85,
   "metadata": {},
   "outputs": [
    {
     "data": {
      "text/html": [
       "<div>\n",
       "<style scoped>\n",
       "    .dataframe tbody tr th:only-of-type {\n",
       "        vertical-align: middle;\n",
       "    }\n",
       "\n",
       "    .dataframe tbody tr th {\n",
       "        vertical-align: top;\n",
       "    }\n",
       "\n",
       "    .dataframe thead th {\n",
       "        text-align: right;\n",
       "    }\n",
       "</style>\n",
       "<table border=\"1\" class=\"dataframe\">\n",
       "  <thead>\n",
       "    <tr style=\"text-align: right;\">\n",
       "      <th></th>\n",
       "      <th>pclass</th>\n",
       "      <th>survived</th>\n",
       "      <th>sex</th>\n",
       "      <th>age</th>\n",
       "      <th>sibsp</th>\n",
       "      <th>parch</th>\n",
       "      <th>fare</th>\n",
       "      <th>embarked</th>\n",
       "      <th>Title</th>\n",
       "    </tr>\n",
       "  </thead>\n",
       "  <tbody>\n",
       "    <tr>\n",
       "      <th>501</th>\n",
       "      <td>2nd</td>\n",
       "      <td>1</td>\n",
       "      <td>1</td>\n",
       "      <td>13.0</td>\n",
       "      <td>0</td>\n",
       "      <td>1</td>\n",
       "      <td>19.5000</td>\n",
       "      <td>Southampton</td>\n",
       "      <td>2</td>\n",
       "    </tr>\n",
       "    <tr>\n",
       "      <th>588</th>\n",
       "      <td>2nd</td>\n",
       "      <td>1</td>\n",
       "      <td>1</td>\n",
       "      <td>4.0</td>\n",
       "      <td>1</td>\n",
       "      <td>1</td>\n",
       "      <td>23.0000</td>\n",
       "      <td>Southampton</td>\n",
       "      <td>2</td>\n",
       "    </tr>\n",
       "    <tr>\n",
       "      <th>402</th>\n",
       "      <td>2nd</td>\n",
       "      <td>1</td>\n",
       "      <td>1</td>\n",
       "      <td>30.0</td>\n",
       "      <td>1</td>\n",
       "      <td>0</td>\n",
       "      <td>13.8583</td>\n",
       "      <td>Cherbourg</td>\n",
       "      <td>2</td>\n",
       "    </tr>\n",
       "    <tr>\n",
       "      <th>1193</th>\n",
       "      <td>3rd</td>\n",
       "      <td>0</td>\n",
       "      <td>0</td>\n",
       "      <td>24.0</td>\n",
       "      <td>0</td>\n",
       "      <td>0</td>\n",
       "      <td>7.7250</td>\n",
       "      <td>Queenstown</td>\n",
       "      <td>1</td>\n",
       "    </tr>\n",
       "    <tr>\n",
       "      <th>686</th>\n",
       "      <td>3rd</td>\n",
       "      <td>1</td>\n",
       "      <td>1</td>\n",
       "      <td>22.0</td>\n",
       "      <td>0</td>\n",
       "      <td>0</td>\n",
       "      <td>7.7250</td>\n",
       "      <td>Queenstown</td>\n",
       "      <td>2</td>\n",
       "    </tr>\n",
       "  </tbody>\n",
       "</table>\n",
       "</div>"
      ],
      "text/plain": [
       "     pclass  survived  sex   age  sibsp  parch     fare     embarked  Title\n",
       "501     2nd         1    1  13.0      0      1  19.5000  Southampton      2\n",
       "588     2nd         1    1   4.0      1      1  23.0000  Southampton      2\n",
       "402     2nd         1    1  30.0      1      0  13.8583    Cherbourg      2\n",
       "1193    3rd         0    0  24.0      0      0   7.7250   Queenstown      1\n",
       "686     3rd         1    1  22.0      0      0   7.7250   Queenstown      2"
      ]
     },
     "execution_count": 85,
     "metadata": {},
     "output_type": "execute_result"
    }
   ],
   "source": [
    "if __name__ == '__main__':\n",
    "    for dataset in combine:\n",
    "        dataset['sex'] = dataset['sex'].map({'female':1,'male':0}).astype(int)\n",
    "train_data.head()"
   ]
  },
  {
   "cell_type": "markdown",
   "metadata": {},
   "source": [
    "### deal with missing value"
   ]
  },
  {
   "cell_type": "code",
   "execution_count": 86,
   "metadata": {
    "scrolled": false
   },
   "outputs": [
    {
     "data": {
      "image/png": "[encoded data removed]",
      "text/plain": [
       "<Figure size 514.88x475.2 with 6 Axes>"
      ]
     },
     "metadata": {},
     "output_type": "display_data"
    }
   ],
   "source": [
    "grid = sns.FacetGrid(train_data,row='pclass',col='sex',size=2.2,aspect=1.6)\n",
    "grid.map(plt.hist,'age',alpha=.5,bins=20)\n",
    "grid.add_legend()\n",
    "plt.show()"
   ]
  },
  {
   "cell_type": "markdown",
   "metadata": {},
   "source": [
    "### divide age to 5 parts to see the relation with survived"
   ]
  },
  {
   "cell_type": "code",
   "execution_count": 87,
   "metadata": {},
   "outputs": [],
   "source": [
    "# train_data['AgeBand']=pd.cut(train_data['age'],5) # divide to 5 parts\n",
    "# train_data[['AgeBand','survived']].groupby(['AgeBand'],as_index=False).mean()\\\n",
    "# .sort_values(by='AgeBand',ascending=True)\n",
    "# for dataset in combine:\n",
    "#     dataset.loc[dataset['age']<=16,'age'] = 0\n",
    "#     dataset.loc[(dataset['age']>16) & (dataset['age']<=32),'age']=1\n",
    "#     dataset.loc[(dataset['age']>32) & (dataset['age']<=48),'age']=2\n",
    "#     dataset.loc[(dataset['age']>48) & (dataset['age']<=64),'age']=3\n",
    "#     dataset.loc[(dataset['age']>64),'age']=4\n",
    "# train_data.head(5)"
   ]
  },
  {
   "cell_type": "markdown",
   "metadata": {},
   "source": [
    "### combine sibsp and parch to do a relate comparison with survived\n"
   ]
  },
  {
   "cell_type": "code",
   "execution_count": 88,
   "metadata": {},
   "outputs": [
    {
     "data": {
      "text/html": [
       "<div>\n",
       "<style scoped>\n",
       "    .dataframe tbody tr th:only-of-type {\n",
       "        vertical-align: middle;\n",
       "    }\n",
       "\n",
       "    .dataframe tbody tr th {\n",
       "        vertical-align: top;\n",
       "    }\n",
       "\n",
       "    .dataframe thead th {\n",
       "        text-align: right;\n",
       "    }\n",
       "</style>\n",
       "<table border=\"1\" class=\"dataframe\">\n",
       "  <thead>\n",
       "    <tr style=\"text-align: right;\">\n",
       "      <th></th>\n",
       "      <th>FamilySize</th>\n",
       "      <th>survived</th>\n",
       "    </tr>\n",
       "  </thead>\n",
       "  <tbody>\n",
       "    <tr>\n",
       "      <th>3</th>\n",
       "      <td>4</td>\n",
       "      <td>0.600000</td>\n",
       "    </tr>\n",
       "    <tr>\n",
       "      <th>2</th>\n",
       "      <td>3</td>\n",
       "      <td>0.560748</td>\n",
       "    </tr>\n",
       "    <tr>\n",
       "      <th>1</th>\n",
       "      <td>2</td>\n",
       "      <td>0.529070</td>\n",
       "    </tr>\n",
       "    <tr>\n",
       "      <th>0</th>\n",
       "      <td>1</td>\n",
       "      <td>0.318761</td>\n",
       "    </tr>\n",
       "    <tr>\n",
       "      <th>4</th>\n",
       "      <td>5</td>\n",
       "      <td>0.307692</td>\n",
       "    </tr>\n",
       "    <tr>\n",
       "      <th>5</th>\n",
       "      <td>6</td>\n",
       "      <td>0.235294</td>\n",
       "    </tr>\n",
       "    <tr>\n",
       "      <th>6</th>\n",
       "      <td>7</td>\n",
       "      <td>0.090909</td>\n",
       "    </tr>\n",
       "    <tr>\n",
       "      <th>7</th>\n",
       "      <td>8</td>\n",
       "      <td>0.000000</td>\n",
       "    </tr>\n",
       "    <tr>\n",
       "      <th>8</th>\n",
       "      <td>11</td>\n",
       "      <td>0.000000</td>\n",
       "    </tr>\n",
       "  </tbody>\n",
       "</table>\n",
       "</div>"
      ],
      "text/plain": [
       "   FamilySize  survived\n",
       "3           4  0.600000\n",
       "2           3  0.560748\n",
       "1           2  0.529070\n",
       "0           1  0.318761\n",
       "4           5  0.307692\n",
       "5           6  0.235294\n",
       "6           7  0.090909\n",
       "7           8  0.000000\n",
       "8          11  0.000000"
      ]
     },
     "execution_count": 88,
     "metadata": {},
     "output_type": "execute_result"
    }
   ],
   "source": [
    "for dataset in combine:\n",
    "    dataset['FamilySize'] = dataset['sibsp'] + dataset['parch'] + 1\n",
    "train_data[['FamilySize','survived']].groupby(['FamilySize'],as_index=False).mean()\\\n",
    ".sort_values(by='survived',ascending=False)"
   ]
  },
  {
   "cell_type": "markdown",
   "metadata": {},
   "source": [
    "### create a isAlone column"
   ]
  },
  {
   "cell_type": "code",
   "execution_count": 89,
   "metadata": {},
   "outputs": [
    {
     "data": {
      "text/html": [
       "<div>\n",
       "<style scoped>\n",
       "    .dataframe tbody tr th:only-of-type {\n",
       "        vertical-align: middle;\n",
       "    }\n",
       "\n",
       "    .dataframe tbody tr th {\n",
       "        vertical-align: top;\n",
       "    }\n",
       "\n",
       "    .dataframe thead th {\n",
       "        text-align: right;\n",
       "    }\n",
       "</style>\n",
       "<table border=\"1\" class=\"dataframe\">\n",
       "  <thead>\n",
       "    <tr style=\"text-align: right;\">\n",
       "      <th></th>\n",
       "      <th>IsAlone</th>\n",
       "      <th>survived</th>\n",
       "    </tr>\n",
       "  </thead>\n",
       "  <tbody>\n",
       "    <tr>\n",
       "      <th>0</th>\n",
       "      <td>0</td>\n",
       "      <td>0.485014</td>\n",
       "    </tr>\n",
       "    <tr>\n",
       "      <th>1</th>\n",
       "      <td>1</td>\n",
       "      <td>0.318761</td>\n",
       "    </tr>\n",
       "  </tbody>\n",
       "</table>\n",
       "</div>"
      ],
      "text/plain": [
       "   IsAlone  survived\n",
       "0        0  0.485014\n",
       "1        1  0.318761"
      ]
     },
     "execution_count": 89,
     "metadata": {},
     "output_type": "execute_result"
    }
   ],
   "source": [
    "for dataset in combine:\n",
    "    dataset['IsAlone'] = 0\n",
    "    dataset.loc[dataset['FamilySize']==1,'IsAlone'] = 1\n",
    "train_data[['IsAlone','survived']].groupby(['IsAlone'],as_index=False).mean()\\\n",
    ".sort_values(by='survived',ascending=False)"
   ]
  },
  {
   "cell_type": "markdown",
   "metadata": {},
   "source": [
    "### remove familysize, sibsp and parch"
   ]
  },
  {
   "cell_type": "code",
   "execution_count": 90,
   "metadata": {},
   "outputs": [
    {
     "data": {
      "text/html": [
       "<div>\n",
       "<style scoped>\n",
       "    .dataframe tbody tr th:only-of-type {\n",
       "        vertical-align: middle;\n",
       "    }\n",
       "\n",
       "    .dataframe tbody tr th {\n",
       "        vertical-align: top;\n",
       "    }\n",
       "\n",
       "    .dataframe thead th {\n",
       "        text-align: right;\n",
       "    }\n",
       "</style>\n",
       "<table border=\"1\" class=\"dataframe\">\n",
       "  <thead>\n",
       "    <tr style=\"text-align: right;\">\n",
       "      <th></th>\n",
       "      <th>pclass</th>\n",
       "      <th>survived</th>\n",
       "      <th>sex</th>\n",
       "      <th>age</th>\n",
       "      <th>fare</th>\n",
       "      <th>embarked</th>\n",
       "      <th>Title</th>\n",
       "      <th>IsAlone</th>\n",
       "    </tr>\n",
       "  </thead>\n",
       "  <tbody>\n",
       "    <tr>\n",
       "      <th>501</th>\n",
       "      <td>2nd</td>\n",
       "      <td>1</td>\n",
       "      <td>1</td>\n",
       "      <td>13.0</td>\n",
       "      <td>19.5000</td>\n",
       "      <td>Southampton</td>\n",
       "      <td>2</td>\n",
       "      <td>0</td>\n",
       "    </tr>\n",
       "    <tr>\n",
       "      <th>588</th>\n",
       "      <td>2nd</td>\n",
       "      <td>1</td>\n",
       "      <td>1</td>\n",
       "      <td>4.0</td>\n",
       "      <td>23.0000</td>\n",
       "      <td>Southampton</td>\n",
       "      <td>2</td>\n",
       "      <td>0</td>\n",
       "    </tr>\n",
       "    <tr>\n",
       "      <th>402</th>\n",
       "      <td>2nd</td>\n",
       "      <td>1</td>\n",
       "      <td>1</td>\n",
       "      <td>30.0</td>\n",
       "      <td>13.8583</td>\n",
       "      <td>Cherbourg</td>\n",
       "      <td>2</td>\n",
       "      <td>0</td>\n",
       "    </tr>\n",
       "    <tr>\n",
       "      <th>1193</th>\n",
       "      <td>3rd</td>\n",
       "      <td>0</td>\n",
       "      <td>0</td>\n",
       "      <td>24.0</td>\n",
       "      <td>7.7250</td>\n",
       "      <td>Queenstown</td>\n",
       "      <td>1</td>\n",
       "      <td>1</td>\n",
       "    </tr>\n",
       "    <tr>\n",
       "      <th>686</th>\n",
       "      <td>3rd</td>\n",
       "      <td>1</td>\n",
       "      <td>1</td>\n",
       "      <td>22.0</td>\n",
       "      <td>7.7250</td>\n",
       "      <td>Queenstown</td>\n",
       "      <td>2</td>\n",
       "      <td>1</td>\n",
       "    </tr>\n",
       "  </tbody>\n",
       "</table>\n",
       "</div>"
      ],
      "text/plain": [
       "     pclass  survived  sex   age     fare     embarked  Title  IsAlone\n",
       "501     2nd         1    1  13.0  19.5000  Southampton      2        0\n",
       "588     2nd         1    1   4.0  23.0000  Southampton      2        0\n",
       "402     2nd         1    1  30.0  13.8583    Cherbourg      2        0\n",
       "1193    3rd         0    0  24.0   7.7250   Queenstown      1        1\n",
       "686     3rd         1    1  22.0   7.7250   Queenstown      2        1"
      ]
     },
     "execution_count": 90,
     "metadata": {},
     "output_type": "execute_result"
    }
   ],
   "source": [
    "train_data = train_data.drop(['parch','sibsp','FamilySize'],axis=1)\n",
    "test_data = test_data.drop(['parch','sibsp','FamilySize'],axis=1)\n",
    "combine = [train_data,test_data]\n",
    "train_data.head()"
   ]
  },
  {
   "cell_type": "markdown",
   "metadata": {},
   "source": [
    "### transfer pclass data type"
   ]
  },
  {
   "cell_type": "code",
   "execution_count": 91,
   "metadata": {},
   "outputs": [
    {
     "data": {
      "text/html": [
       "<div>\n",
       "<style scoped>\n",
       "    .dataframe tbody tr th:only-of-type {\n",
       "        vertical-align: middle;\n",
       "    }\n",
       "\n",
       "    .dataframe tbody tr th {\n",
       "        vertical-align: top;\n",
       "    }\n",
       "\n",
       "    .dataframe thead th {\n",
       "        text-align: right;\n",
       "    }\n",
       "</style>\n",
       "<table border=\"1\" class=\"dataframe\">\n",
       "  <thead>\n",
       "    <tr style=\"text-align: right;\">\n",
       "      <th></th>\n",
       "      <th>pclass</th>\n",
       "      <th>survived</th>\n",
       "      <th>sex</th>\n",
       "      <th>age</th>\n",
       "      <th>fare</th>\n",
       "      <th>embarked</th>\n",
       "      <th>Title</th>\n",
       "      <th>IsAlone</th>\n",
       "    </tr>\n",
       "  </thead>\n",
       "  <tbody>\n",
       "    <tr>\n",
       "      <th>501</th>\n",
       "      <td>2</td>\n",
       "      <td>1</td>\n",
       "      <td>1</td>\n",
       "      <td>13.0</td>\n",
       "      <td>19.5000</td>\n",
       "      <td>Southampton</td>\n",
       "      <td>2</td>\n",
       "      <td>0</td>\n",
       "    </tr>\n",
       "    <tr>\n",
       "      <th>588</th>\n",
       "      <td>2</td>\n",
       "      <td>1</td>\n",
       "      <td>1</td>\n",
       "      <td>4.0</td>\n",
       "      <td>23.0000</td>\n",
       "      <td>Southampton</td>\n",
       "      <td>2</td>\n",
       "      <td>0</td>\n",
       "    </tr>\n",
       "    <tr>\n",
       "      <th>402</th>\n",
       "      <td>2</td>\n",
       "      <td>1</td>\n",
       "      <td>1</td>\n",
       "      <td>30.0</td>\n",
       "      <td>13.8583</td>\n",
       "      <td>Cherbourg</td>\n",
       "      <td>2</td>\n",
       "      <td>0</td>\n",
       "    </tr>\n",
       "    <tr>\n",
       "      <th>1193</th>\n",
       "      <td>3</td>\n",
       "      <td>0</td>\n",
       "      <td>0</td>\n",
       "      <td>24.0</td>\n",
       "      <td>7.7250</td>\n",
       "      <td>Queenstown</td>\n",
       "      <td>1</td>\n",
       "      <td>1</td>\n",
       "    </tr>\n",
       "    <tr>\n",
       "      <th>686</th>\n",
       "      <td>3</td>\n",
       "      <td>1</td>\n",
       "      <td>1</td>\n",
       "      <td>22.0</td>\n",
       "      <td>7.7250</td>\n",
       "      <td>Queenstown</td>\n",
       "      <td>2</td>\n",
       "      <td>1</td>\n",
       "    </tr>\n",
       "  </tbody>\n",
       "</table>\n",
       "</div>"
      ],
      "text/plain": [
       "      pclass  survived  sex   age     fare     embarked  Title  IsAlone\n",
       "501        2         1    1  13.0  19.5000  Southampton      2        0\n",
       "588        2         1    1   4.0  23.0000  Southampton      2        0\n",
       "402        2         1    1  30.0  13.8583    Cherbourg      2        0\n",
       "1193       3         0    0  24.0   7.7250   Queenstown      1        1\n",
       "686        3         1    1  22.0   7.7250   Queenstown      2        1"
      ]
     },
     "execution_count": 91,
     "metadata": {},
     "output_type": "execute_result"
    }
   ],
   "source": [
    "if __name__ == '__main__':\n",
    "    for dataset in combine:\n",
    "        dataset['pclass'] = dataset['pclass'].map({'1st':1,'2nd':2,'3rd':3}).astype(int)\n",
    "train_data.head()"
   ]
  },
  {
   "cell_type": "code",
   "execution_count": 92,
   "metadata": {},
   "outputs": [
    {
     "data": {
      "text/html": [
       "<div>\n",
       "<style scoped>\n",
       "    .dataframe tbody tr th:only-of-type {\n",
       "        vertical-align: middle;\n",
       "    }\n",
       "\n",
       "    .dataframe tbody tr th {\n",
       "        vertical-align: top;\n",
       "    }\n",
       "\n",
       "    .dataframe thead th {\n",
       "        text-align: right;\n",
       "    }\n",
       "</style>\n",
       "<table border=\"1\" class=\"dataframe\">\n",
       "  <thead>\n",
       "    <tr style=\"text-align: right;\">\n",
       "      <th></th>\n",
       "      <th>Age*Class</th>\n",
       "      <th>age</th>\n",
       "      <th>pclass</th>\n",
       "    </tr>\n",
       "  </thead>\n",
       "  <tbody>\n",
       "    <tr>\n",
       "      <th>501</th>\n",
       "      <td>26.0</td>\n",
       "      <td>13.0</td>\n",
       "      <td>2</td>\n",
       "    </tr>\n",
       "    <tr>\n",
       "      <th>588</th>\n",
       "      <td>8.0</td>\n",
       "      <td>4.0</td>\n",
       "      <td>2</td>\n",
       "    </tr>\n",
       "    <tr>\n",
       "      <th>402</th>\n",
       "      <td>60.0</td>\n",
       "      <td>30.0</td>\n",
       "      <td>2</td>\n",
       "    </tr>\n",
       "    <tr>\n",
       "      <th>1193</th>\n",
       "      <td>72.0</td>\n",
       "      <td>24.0</td>\n",
       "      <td>3</td>\n",
       "    </tr>\n",
       "    <tr>\n",
       "      <th>686</th>\n",
       "      <td>66.0</td>\n",
       "      <td>22.0</td>\n",
       "      <td>3</td>\n",
       "    </tr>\n",
       "    <tr>\n",
       "      <th>971</th>\n",
       "      <td>72.0</td>\n",
       "      <td>24.0</td>\n",
       "      <td>3</td>\n",
       "    </tr>\n",
       "    <tr>\n",
       "      <th>117</th>\n",
       "      <td>30.0</td>\n",
       "      <td>30.0</td>\n",
       "      <td>1</td>\n",
       "    </tr>\n",
       "    <tr>\n",
       "      <th>540</th>\n",
       "      <td>4.0</td>\n",
       "      <td>2.0</td>\n",
       "      <td>2</td>\n",
       "    </tr>\n",
       "    <tr>\n",
       "      <th>294</th>\n",
       "      <td>49.0</td>\n",
       "      <td>49.0</td>\n",
       "      <td>1</td>\n",
       "    </tr>\n",
       "    <tr>\n",
       "      <th>261</th>\n",
       "      <td>35.0</td>\n",
       "      <td>35.0</td>\n",
       "      <td>1</td>\n",
       "    </tr>\n",
       "  </tbody>\n",
       "</table>\n",
       "</div>"
      ],
      "text/plain": [
       "      Age*Class   age  pclass\n",
       "501        26.0  13.0       2\n",
       "588         8.0   4.0       2\n",
       "402        60.0  30.0       2\n",
       "1193       72.0  24.0       3\n",
       "686        66.0  22.0       3\n",
       "971        72.0  24.0       3\n",
       "117        30.0  30.0       1\n",
       "540         4.0   2.0       2\n",
       "294        49.0  49.0       1\n",
       "261        35.0  35.0       1"
      ]
     },
     "execution_count": 92,
     "metadata": {},
     "output_type": "execute_result"
    }
   ],
   "source": [
    "for dataset in combine:\n",
    "    dataset['Age*Class'] = dataset.age * dataset.pclass\n",
    "train_data.loc[:,['Age*Class','age','pclass']].head(10)"
   ]
  },
  {
   "cell_type": "markdown",
   "metadata": {},
   "source": [
    "### deal with embarked"
   ]
  },
  {
   "cell_type": "code",
   "execution_count": 93,
   "metadata": {},
   "outputs": [
    {
     "data": {
      "text/html": [
       "<div>\n",
       "<style scoped>\n",
       "    .dataframe tbody tr th:only-of-type {\n",
       "        vertical-align: middle;\n",
       "    }\n",
       "\n",
       "    .dataframe tbody tr th {\n",
       "        vertical-align: top;\n",
       "    }\n",
       "\n",
       "    .dataframe thead th {\n",
       "        text-align: right;\n",
       "    }\n",
       "</style>\n",
       "<table border=\"1\" class=\"dataframe\">\n",
       "  <thead>\n",
       "    <tr style=\"text-align: right;\">\n",
       "      <th></th>\n",
       "      <th>embarked</th>\n",
       "      <th>survived</th>\n",
       "    </tr>\n",
       "  </thead>\n",
       "  <tbody>\n",
       "    <tr>\n",
       "      <th>0</th>\n",
       "      <td>Cherbourg</td>\n",
       "      <td>0.553073</td>\n",
       "    </tr>\n",
       "    <tr>\n",
       "      <th>1</th>\n",
       "      <td>Queenstown</td>\n",
       "      <td>0.373494</td>\n",
       "    </tr>\n",
       "    <tr>\n",
       "      <th>2</th>\n",
       "      <td>Southampton</td>\n",
       "      <td>0.340979</td>\n",
       "    </tr>\n",
       "  </tbody>\n",
       "</table>\n",
       "</div>"
      ],
      "text/plain": [
       "      embarked  survived\n",
       "0    Cherbourg  0.553073\n",
       "1   Queenstown  0.373494\n",
       "2  Southampton  0.340979"
      ]
     },
     "execution_count": 93,
     "metadata": {},
     "output_type": "execute_result"
    }
   ],
   "source": [
    "freq_port = train_data.embarked.dropna().mode()[0]\n",
    "for dataset in combine:\n",
    "    dataset['embarked'] = dataset['embarked'].fillna(freq_port)\n",
    "train_data[['embarked','survived']].groupby(['embarked'],as_index=False).mean()\\\n",
    ".sort_values(by='survived',ascending=False)"
   ]
  },
  {
   "cell_type": "markdown",
   "metadata": {},
   "source": [
    "### convert embarked data type"
   ]
  },
  {
   "cell_type": "code",
   "execution_count": 94,
   "metadata": {},
   "outputs": [
    {
     "data": {
      "text/html": [
       "<div>\n",
       "<style scoped>\n",
       "    .dataframe tbody tr th:only-of-type {\n",
       "        vertical-align: middle;\n",
       "    }\n",
       "\n",
       "    .dataframe tbody tr th {\n",
       "        vertical-align: top;\n",
       "    }\n",
       "\n",
       "    .dataframe thead th {\n",
       "        text-align: right;\n",
       "    }\n",
       "</style>\n",
       "<table border=\"1\" class=\"dataframe\">\n",
       "  <thead>\n",
       "    <tr style=\"text-align: right;\">\n",
       "      <th></th>\n",
       "      <th>pclass</th>\n",
       "      <th>survived</th>\n",
       "      <th>sex</th>\n",
       "      <th>age</th>\n",
       "      <th>fare</th>\n",
       "      <th>embarked</th>\n",
       "      <th>Title</th>\n",
       "      <th>IsAlone</th>\n",
       "      <th>Age*Class</th>\n",
       "    </tr>\n",
       "  </thead>\n",
       "  <tbody>\n",
       "    <tr>\n",
       "      <th>501</th>\n",
       "      <td>2</td>\n",
       "      <td>1</td>\n",
       "      <td>1</td>\n",
       "      <td>13.0</td>\n",
       "      <td>19.5000</td>\n",
       "      <td>1</td>\n",
       "      <td>2</td>\n",
       "      <td>0</td>\n",
       "      <td>26.0</td>\n",
       "    </tr>\n",
       "    <tr>\n",
       "      <th>588</th>\n",
       "      <td>2</td>\n",
       "      <td>1</td>\n",
       "      <td>1</td>\n",
       "      <td>4.0</td>\n",
       "      <td>23.0000</td>\n",
       "      <td>1</td>\n",
       "      <td>2</td>\n",
       "      <td>0</td>\n",
       "      <td>8.0</td>\n",
       "    </tr>\n",
       "    <tr>\n",
       "      <th>402</th>\n",
       "      <td>2</td>\n",
       "      <td>1</td>\n",
       "      <td>1</td>\n",
       "      <td>30.0</td>\n",
       "      <td>13.8583</td>\n",
       "      <td>2</td>\n",
       "      <td>2</td>\n",
       "      <td>0</td>\n",
       "      <td>60.0</td>\n",
       "    </tr>\n",
       "    <tr>\n",
       "      <th>1193</th>\n",
       "      <td>3</td>\n",
       "      <td>0</td>\n",
       "      <td>0</td>\n",
       "      <td>24.0</td>\n",
       "      <td>7.7250</td>\n",
       "      <td>3</td>\n",
       "      <td>1</td>\n",
       "      <td>1</td>\n",
       "      <td>72.0</td>\n",
       "    </tr>\n",
       "    <tr>\n",
       "      <th>686</th>\n",
       "      <td>3</td>\n",
       "      <td>1</td>\n",
       "      <td>1</td>\n",
       "      <td>22.0</td>\n",
       "      <td>7.7250</td>\n",
       "      <td>3</td>\n",
       "      <td>2</td>\n",
       "      <td>1</td>\n",
       "      <td>66.0</td>\n",
       "    </tr>\n",
       "  </tbody>\n",
       "</table>\n",
       "</div>"
      ],
      "text/plain": [
       "      pclass  survived  sex   age     fare  embarked  Title  IsAlone  \\\n",
       "501        2         1    1  13.0  19.5000         1      2        0   \n",
       "588        2         1    1   4.0  23.0000         1      2        0   \n",
       "402        2         1    1  30.0  13.8583         2      2        0   \n",
       "1193       3         0    0  24.0   7.7250         3      1        1   \n",
       "686        3         1    1  22.0   7.7250         3      2        1   \n",
       "\n",
       "      Age*Class  \n",
       "501        26.0  \n",
       "588         8.0  \n",
       "402        60.0  \n",
       "1193       72.0  \n",
       "686        66.0  "
      ]
     },
     "execution_count": 94,
     "metadata": {},
     "output_type": "execute_result"
    }
   ],
   "source": [
    "if __name__ == '__main__':\n",
    "    for dataset in combine:\n",
    "        dataset['embarked'] = dataset['embarked'].map({'Southampton':1,'Cherbourg':2,'Queenstown':3}).astype(int)\n",
    "train_data.head()"
   ]
  },
  {
   "cell_type": "markdown",
   "metadata": {},
   "source": [
    "### deal with fare"
   ]
  },
  {
   "cell_type": "code",
   "execution_count": 95,
   "metadata": {},
   "outputs": [],
   "source": [
    "# test_data['fare'].fillna(test_data['fare'].dropna().median(), inplace=True)\n",
    "\n",
    "# train_data['FareBand'] = pd.qcut(train_data['fare'], 4)\n",
    "# train_data[['FareBand', 'survived']].groupby(['FareBand'], as_index=False).mean()\\\n",
    "#       .sort_values(by='FareBand', ascending=True)"
   ]
  },
  {
   "cell_type": "code",
   "execution_count": 96,
   "metadata": {},
   "outputs": [],
   "source": [
    "# for dataset in combine:\n",
    "#     dataset.loc[dataset['fare'] <= 7.896, 'fare'] = 0\n",
    "#     dataset.loc[(dataset['fare'] > 7.896) & (dataset['fare'] <= 14.454), 'fare'] = 1\n",
    "#     dataset.loc[(dataset['fare'] > 14.454) & (dataset['fare'] <= 31.275), 'fare'] = 2\n",
    "#     dataset.loc[dataset['fare'] > 31.275, 'Fare'] = 3\n",
    "#     dataset['fare'] = dataset['fare'].astype(int)\n",
    "# train_data = train_data.drop(['FareBand'],axis=1)\n",
    "# combine = [train_data,test_data]\n",
    "# print(train_data.head(5))"
   ]
  },
  {
   "cell_type": "code",
   "execution_count": 97,
   "metadata": {},
   "outputs": [],
   "source": [
    "train_data['fare'].fillna(train_data['fare'].mean(),inplace=True)\n",
    "test_data['fare'].fillna(test_data['fare'].mean(),inplace=True)"
   ]
  },
  {
   "cell_type": "code",
   "execution_count": 98,
   "metadata": {},
   "outputs": [
    {
     "name": "stdout",
     "output_type": "stream",
     "text": [
      "      pclass  survived  sex   age     fare  embarked  Title  IsAlone  \\\n",
      "1139       3         0    0  38.0   7.8958         1      1        1   \n",
      "533        2         1    1  21.0  21.0000         1      2        0   \n",
      "459        2         0    0  42.0  27.0000         1      1        0   \n",
      "1150       3         0    0  24.0  14.5000         1      1        1   \n",
      "393        2         0    0  25.0  31.5000         1      1        1   \n",
      "\n",
      "      Age*Class  \n",
      "1139      114.0  \n",
      "533        42.0  \n",
      "459        84.0  \n",
      "1150       72.0  \n",
      "393        50.0  \n"
     ]
    }
   ],
   "source": [
    "print(test_data.head(5))"
   ]
  },
  {
   "cell_type": "code",
   "execution_count": null,
   "metadata": {},
   "outputs": [],
   "source": []
  },
  {
   "cell_type": "code",
   "execution_count": null,
   "metadata": {},
   "outputs": [],
   "source": []
  },
  {
   "cell_type": "markdown",
   "metadata": {},
   "source": [
    "## Let's fit dataset in models"
   ]
  },
  {
   "cell_type": "code",
   "execution_count": 101,
   "metadata": {},
   "outputs": [
    {
     "name": "stdout",
     "output_type": "stream",
     "text": [
      "(916, 8) (916,) (393, 8)\n"
     ]
    }
   ],
   "source": [
    "X_train = train_data.drop('survived',axis=1)\n",
    "Y_train = train_data['survived']\n",
    "X_test = test_data.drop('survived',axis=1)\n",
    "print(X_train.shape,Y_train.shape,X_test.shape)"
   ]
  },
  {
   "cell_type": "markdown",
   "metadata": {},
   "source": [
    "### logistic regression"
   ]
  },
  {
   "cell_type": "code",
   "execution_count": 102,
   "metadata": {},
   "outputs": [
    {
     "data": {
      "text/plain": [
       "80.35"
      ]
     },
     "execution_count": 102,
     "metadata": {},
     "output_type": "execute_result"
    }
   ],
   "source": [
    "logreg = LogisticRegression()\n",
    "logreg.fit(X_train,Y_train)\n",
    "Y_pred = logreg.predict(X_test)\n",
    "acc_log = round(logreg.score(X_train,Y_train) * 100,2)\n",
    "acc_log"
   ]
  },
  {
   "cell_type": "markdown",
   "metadata": {},
   "source": [
    "### support vector machine"
   ]
  },
  {
   "cell_type": "code",
   "execution_count": 103,
   "metadata": {},
   "outputs": [
    {
     "name": "stdout",
     "output_type": "stream",
     "text": [
      "91.81\n"
     ]
    }
   ],
   "source": [
    "svc = SVC()\n",
    "svc.fit(X_train,Y_train)\n",
    "Y_pred = svc.predict(X_test)\n",
    "acc_svc = round(svc.score(X_train,Y_train) * 100,2)\n",
    "print(acc_svc)"
   ]
  },
  {
   "cell_type": "markdown",
   "metadata": {},
   "source": [
    "### k nearest neighbors"
   ]
  },
  {
   "cell_type": "code",
   "execution_count": 104,
   "metadata": {},
   "outputs": [
    {
     "name": "stdout",
     "output_type": "stream",
     "text": [
      "82.86\n"
     ]
    }
   ],
   "source": [
    "knn = KNeighborsClassifier(n_neighbors=3)\n",
    "knn.fit(X_train,Y_train)\n",
    "Y_pred = knn.predict(X_test)\n",
    "acc_knn = round(knn.score(X_train,Y_train)*100,2)\n",
    "print(acc_knn)"
   ]
  },
  {
   "cell_type": "markdown",
   "metadata": {},
   "source": [
    "### naive-bayes"
   ]
  },
  {
   "cell_type": "code",
   "execution_count": 105,
   "metadata": {},
   "outputs": [
    {
     "name": "stdout",
     "output_type": "stream",
     "text": [
      "75.55\n"
     ]
    }
   ],
   "source": [
    "gaussian = GaussianNB()\n",
    "gaussian.fit(X_train,Y_train)\n",
    "Y_pred = gaussian.predict(X_test)\n",
    "acc_gaussian = round(gaussian.score(X_train,Y_train)*100,2)\n",
    "print(acc_gaussian)"
   ]
  },
  {
   "cell_type": "code",
   "execution_count": 106,
   "metadata": {},
   "outputs": [
    {
     "name": "stdout",
     "output_type": "stream",
     "text": [
      "73.36\n"
     ]
    }
   ],
   "source": [
    "# 传导器\n",
    "perceptron = Perceptron()\n",
    "perceptron.fit(X_train,Y_train)\n",
    "Y_pred = perceptron.predict(X_test)\n",
    "acc_perceptron = round(perceptron.score(X_train,Y_train)*100,2)\n",
    "print(acc_perceptron)"
   ]
  },
  {
   "cell_type": "code",
   "execution_count": 107,
   "metadata": {},
   "outputs": [
    {
     "name": "stdout",
     "output_type": "stream",
     "text": [
      "79.04\n"
     ]
    }
   ],
   "source": [
    "#线性核的向量机\n",
    "linear_svc = LinearSVC()\n",
    "linear_svc.fit(X_train,Y_train)\n",
    "Y_pred = linear_svc.predict(X_test)\n",
    "acc_linear_svc = round(linear_svc.score(X_train,Y_train)*100,2)\n",
    "print(acc_linear_svc)"
   ]
  },
  {
   "cell_type": "code",
   "execution_count": 108,
   "metadata": {},
   "outputs": [
    {
     "name": "stdout",
     "output_type": "stream",
     "text": [
      "38.54\n"
     ]
    }
   ],
   "source": [
    "#随机梯度下降\n",
    "sgd = SGDClassifier()\n",
    "sgd.fit(X_train,Y_train)\n",
    "Y_pred = sgd.predict(X_test)\n",
    "acc_sgd = round(sgd.score(X_train,Y_train)*100,2)\n",
    "print(acc_sgd)"
   ]
  },
  {
   "cell_type": "markdown",
   "metadata": {},
   "source": [
    "### decision-tree"
   ]
  },
  {
   "cell_type": "code",
   "execution_count": 111,
   "metadata": {},
   "outputs": [
    {
     "data": {
      "text/plain": [
       "97.6"
      ]
     },
     "execution_count": 111,
     "metadata": {},
     "output_type": "execute_result"
    }
   ],
   "source": [
    "decision_tree = DecisionTreeClassifier()\n",
    "decision_tree.fit(X_train,Y_train)\n",
    "Y_pred = decision_tree.predict(X_test)\n",
    "acc_decision_tree = round(decision_tree.score(X_train,Y_train)*100,2)\n",
    "acc_decision_tree"
   ]
  },
  {
   "cell_type": "markdown",
   "metadata": {},
   "source": [
    "### random forest"
   ]
  },
  {
   "cell_type": "code",
   "execution_count": 112,
   "metadata": {},
   "outputs": [
    {
     "name": "stdout",
     "output_type": "stream",
     "text": [
      "97.6\n"
     ]
    }
   ],
   "source": [
    "random_forest = RandomForestClassifier(n_estimators=100)\n",
    "random_forest.fit(X_train,Y_train)\n",
    "Y_pred = random_forest.predict(X_test)\n",
    "acc_random_forest = round(random_forest.score(X_train,Y_train)*100,2)\n",
    "print(acc_random_forest)"
   ]
  },
  {
   "cell_type": "code",
   "execution_count": null,
   "metadata": {},
   "outputs": [],
   "source": []
  }
 ],
 "metadata": {
  "kernelspec": {
   "display_name": "Python 3",
   "language": "python",
   "name": "python3"
  },
  "language_info": {
   "codemirror_mode": {
    "name": "ipython",
    "version": 3
   },
   "file_extension": ".py",
   "mimetype": "text/x-python",
   "name": "python",
   "nbconvert_exporter": "python",
   "pygments_lexer": "ipython3",
   "version": "3.7.3"
  }
 },
 "nbformat": 4,
 "nbformat_minor": 2
}
